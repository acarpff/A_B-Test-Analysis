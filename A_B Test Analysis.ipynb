{
 "cells": [
  {
   "cell_type": "code",
   "execution_count": null,
   "metadata": {},
   "outputs": [],
   "source": []
  },
  {
   "cell_type": "code",
   "execution_count": 1,
   "metadata": {},
   "outputs": [],
   "source": [
    "import pandas as pd\n",
    "import numpy as np\n",
    "import seaborn as sns\n",
    "import matplotlib.pyplot as plt\n",
    "from scipy import stats"
   ]
  },
  {
   "cell_type": "code",
   "execution_count": 2,
   "metadata": {},
   "outputs": [],
   "source": [
    "df_visits = pd.read_csv('visits_us.csv', parse_dates=['date']) #, dtype={'group':'category'}\n",
    "df_orders = pd.read_csv('orders_us.csv', parse_dates=['date']) #, dtype={'group':'category'}\n",
    "df_hypotheses = pd.read_csv('hypotheses_us.csv', sep=';')"
   ]
  },
  {
   "cell_type": "code",
   "execution_count": 3,
   "metadata": {},
   "outputs": [],
   "source": [
    "df_dict = {'df_visits':df_visits, 'df_orders':df_orders, 'df_hypotheses':df_hypotheses}"
   ]
  },
  {
   "cell_type": "code",
   "execution_count": 4,
   "metadata": {
    "scrolled": true
   },
   "outputs": [
    {
     "name": "stdout",
     "output_type": "stream",
     "text": [
      "\n",
      " df_visits info:\n",
      "**************************************************\n",
      "\n",
      "<class 'pandas.core.frame.DataFrame'>\n",
      "RangeIndex: 62 entries, 0 to 61\n",
      "Data columns (total 3 columns):\n",
      "date      62 non-null datetime64[ns]\n",
      "group     62 non-null object\n",
      "visits    62 non-null int64\n",
      "dtypes: datetime64[ns](1), int64(1), object(1)\n",
      "memory usage: 1.6+ KB\n",
      "None\n",
      "\n",
      " df_visits head:\n",
      "**************************************************\n",
      "\n",
      "        date group  visits\n",
      "0 2019-08-01     A     719\n",
      "1 2019-08-02     A     619\n",
      "2 2019-08-03     A     507\n",
      "3 2019-08-04     A     717\n",
      "4 2019-08-05     A     756\n",
      "\n",
      " df_visits duplicated:\n",
      "**************************************************\n",
      "\n",
      "0\n",
      "\n",
      " df_orders info:\n",
      "**************************************************\n",
      "\n",
      "<class 'pandas.core.frame.DataFrame'>\n",
      "RangeIndex: 1197 entries, 0 to 1196\n",
      "Data columns (total 5 columns):\n",
      "transactionId    1197 non-null int64\n",
      "visitorId        1197 non-null int64\n",
      "date             1197 non-null datetime64[ns]\n",
      "revenue          1197 non-null float64\n",
      "group            1197 non-null object\n",
      "dtypes: datetime64[ns](1), float64(1), int64(2), object(1)\n",
      "memory usage: 46.9+ KB\n",
      "None\n",
      "\n",
      " df_orders head:\n",
      "**************************************************\n",
      "\n",
      "   transactionId   visitorId       date  revenue group\n",
      "0     3667963787  3312258926 2019-08-15     30.4     B\n",
      "1     2804400009  3642806036 2019-08-15     15.2     B\n",
      "2     2961555356  4069496402 2019-08-15     10.2     A\n",
      "3     3797467345  1196621759 2019-08-15    155.1     B\n",
      "4     2282983706  2322279887 2019-08-15     40.5     B\n",
      "\n",
      " df_orders duplicated:\n",
      "**************************************************\n",
      "\n",
      "0\n",
      "\n",
      " df_hypotheses info:\n",
      "**************************************************\n",
      "\n",
      "<class 'pandas.core.frame.DataFrame'>\n",
      "RangeIndex: 9 entries, 0 to 8\n",
      "Data columns (total 5 columns):\n",
      "Hypothesis    9 non-null object\n",
      "Reach         9 non-null int64\n",
      "Impact        9 non-null int64\n",
      "Confidence    9 non-null int64\n",
      "Effort        9 non-null int64\n",
      "dtypes: int64(4), object(1)\n",
      "memory usage: 488.0+ bytes\n",
      "None\n",
      "\n",
      " df_hypotheses head:\n",
      "**************************************************\n",
      "\n",
      "                                          Hypothesis  Reach  Impact  \\\n",
      "0  Add two new channels for attracting traffic. T...      3      10   \n",
      "1  Launch your own delivery service. This will sh...      2       5   \n",
      "2  Add product recommendation blocks to the store...      8       3   \n",
      "3  Change the category structure. This will incre...      8       3   \n",
      "4  Change the background color on the main page. ...      3       1   \n",
      "\n",
      "   Confidence  Effort  \n",
      "0           8       6  \n",
      "1           4      10  \n",
      "2           7       3  \n",
      "3           3       8  \n",
      "4           1       1  \n",
      "\n",
      " df_hypotheses duplicated:\n",
      "**************************************************\n",
      "\n",
      "0\n"
     ]
    }
   ],
   "source": [
    "for name, df in df_dict.items():\n",
    "#     df.columns = df.columns.str.lower()\n",
    "    print('\\n', name,'info:\\n**************************************************\\n')    \n",
    "    print(df.info())\n",
    "    print('\\n', name,'head:\\n**************************************************\\n')\n",
    "    print(df.head())\n",
    "    print('\\n', name,'duplicated:\\n**************************************************\\n')\n",
    "    print(df.duplicated().sum())"
   ]
  },
  {
   "cell_type": "markdown",
   "metadata": {},
   "source": [
    "## Part 1. Prioritizing Hypotheses"
   ]
  },
  {
   "cell_type": "code",
   "execution_count": 5,
   "metadata": {},
   "outputs": [
    {
     "data": {
      "text/html": [
       "<div>\n",
       "<style scoped>\n",
       "    .dataframe tbody tr th:only-of-type {\n",
       "        vertical-align: middle;\n",
       "    }\n",
       "\n",
       "    .dataframe tbody tr th {\n",
       "        vertical-align: top;\n",
       "    }\n",
       "\n",
       "    .dataframe thead th {\n",
       "        text-align: right;\n",
       "    }\n",
       "</style>\n",
       "<table border=\"1\" class=\"dataframe\">\n",
       "  <thead>\n",
       "    <tr style=\"text-align: right;\">\n",
       "      <th></th>\n",
       "      <th>Hypothesis</th>\n",
       "      <th>Reach</th>\n",
       "      <th>Impact</th>\n",
       "      <th>Confidence</th>\n",
       "      <th>Effort</th>\n",
       "    </tr>\n",
       "  </thead>\n",
       "  <tbody>\n",
       "    <tr>\n",
       "      <td>0</td>\n",
       "      <td>Add two new channels for attracting traffic. T...</td>\n",
       "      <td>3</td>\n",
       "      <td>10</td>\n",
       "      <td>8</td>\n",
       "      <td>6</td>\n",
       "    </tr>\n",
       "    <tr>\n",
       "      <td>1</td>\n",
       "      <td>Launch your own delivery service. This will sh...</td>\n",
       "      <td>2</td>\n",
       "      <td>5</td>\n",
       "      <td>4</td>\n",
       "      <td>10</td>\n",
       "    </tr>\n",
       "    <tr>\n",
       "      <td>2</td>\n",
       "      <td>Add product recommendation blocks to the store...</td>\n",
       "      <td>8</td>\n",
       "      <td>3</td>\n",
       "      <td>7</td>\n",
       "      <td>3</td>\n",
       "    </tr>\n",
       "    <tr>\n",
       "      <td>3</td>\n",
       "      <td>Change the category structure. This will incre...</td>\n",
       "      <td>8</td>\n",
       "      <td>3</td>\n",
       "      <td>3</td>\n",
       "      <td>8</td>\n",
       "    </tr>\n",
       "    <tr>\n",
       "      <td>4</td>\n",
       "      <td>Change the background color on the main page. ...</td>\n",
       "      <td>3</td>\n",
       "      <td>1</td>\n",
       "      <td>1</td>\n",
       "      <td>1</td>\n",
       "    </tr>\n",
       "    <tr>\n",
       "      <td>5</td>\n",
       "      <td>Add a customer review page. This will increase...</td>\n",
       "      <td>3</td>\n",
       "      <td>2</td>\n",
       "      <td>2</td>\n",
       "      <td>3</td>\n",
       "    </tr>\n",
       "    <tr>\n",
       "      <td>6</td>\n",
       "      <td>Show banners with current offers and sales on ...</td>\n",
       "      <td>5</td>\n",
       "      <td>3</td>\n",
       "      <td>8</td>\n",
       "      <td>3</td>\n",
       "    </tr>\n",
       "    <tr>\n",
       "      <td>7</td>\n",
       "      <td>Add a subscription form to all the main pages....</td>\n",
       "      <td>10</td>\n",
       "      <td>7</td>\n",
       "      <td>8</td>\n",
       "      <td>5</td>\n",
       "    </tr>\n",
       "    <tr>\n",
       "      <td>8</td>\n",
       "      <td>Launch a promotion that gives users discounts ...</td>\n",
       "      <td>1</td>\n",
       "      <td>9</td>\n",
       "      <td>9</td>\n",
       "      <td>5</td>\n",
       "    </tr>\n",
       "  </tbody>\n",
       "</table>\n",
       "</div>"
      ],
      "text/plain": [
       "                                          Hypothesis  Reach  Impact  \\\n",
       "0  Add two new channels for attracting traffic. T...      3      10   \n",
       "1  Launch your own delivery service. This will sh...      2       5   \n",
       "2  Add product recommendation blocks to the store...      8       3   \n",
       "3  Change the category structure. This will incre...      8       3   \n",
       "4  Change the background color on the main page. ...      3       1   \n",
       "5  Add a customer review page. This will increase...      3       2   \n",
       "6  Show banners with current offers and sales on ...      5       3   \n",
       "7  Add a subscription form to all the main pages....     10       7   \n",
       "8  Launch a promotion that gives users discounts ...      1       9   \n",
       "\n",
       "   Confidence  Effort  \n",
       "0           8       6  \n",
       "1           4      10  \n",
       "2           7       3  \n",
       "3           3       8  \n",
       "4           1       1  \n",
       "5           2       3  \n",
       "6           8       3  \n",
       "7           8       5  \n",
       "8           9       5  "
      ]
     },
     "execution_count": 5,
     "metadata": {},
     "output_type": "execute_result"
    }
   ],
   "source": [
    "df_hypotheses"
   ]
  },
  {
   "cell_type": "markdown",
   "metadata": {},
   "source": [
    "#### Apply the ICE and RICE frameworks to prioritize hypotheses:"
   ]
  },
  {
   "cell_type": "code",
   "execution_count": 6,
   "metadata": {},
   "outputs": [],
   "source": [
    "df_hypotheses['ICE'] = round(df_hypotheses['Impact'] * df_hypotheses['Confidence'] / df_hypotheses['Effort'], 1)\n",
    "df_hypotheses['RICE'] = df_hypotheses['Reach'] * df_hypotheses['Impact'] * df_hypotheses['Confidence'] / df_hypotheses['Effort']"
   ]
  },
  {
   "cell_type": "markdown",
   "metadata": {},
   "source": [
    "#### Sort hypotheses in descending order of priority by ICE column:"
   ]
  },
  {
   "cell_type": "code",
   "execution_count": 7,
   "metadata": {},
   "outputs": [
    {
     "data": {
      "text/html": [
       "<style  type=\"text/css\" >\n",
       "    #T_08c0d298_087c_11eb_a29d_02420a394982row0_col2 {\n",
       "            background-color:  lightblue;\n",
       "        }    #T_08c0d298_087c_11eb_a29d_02420a394982row0_col4 {\n",
       "            background-color:  lightblue;\n",
       "        }    #T_08c0d298_087c_11eb_a29d_02420a394982row1_col1 {\n",
       "            background-color:  lightblue;\n",
       "        }    #T_08c0d298_087c_11eb_a29d_02420a394982row2_col0 {\n",
       "            background-color:  lightblue;\n",
       "        }    #T_08c0d298_087c_11eb_a29d_02420a394982row2_col5 {\n",
       "            background-color:  lightblue;\n",
       "        }    #T_08c0d298_087c_11eb_a29d_02420a394982row5_col3 {\n",
       "            background-color:  lightblue;\n",
       "        }</style><table id=\"T_08c0d298_087c_11eb_a29d_02420a394982\" ><thead>    <tr>        <th class=\"blank level0\" ></th>        <th class=\"col_heading level0 col0\" >Reach</th>        <th class=\"col_heading level0 col1\" >Impact</th>        <th class=\"col_heading level0 col2\" >Confidence</th>        <th class=\"col_heading level0 col3\" >Effort</th>        <th class=\"col_heading level0 col4\" >ICE</th>        <th class=\"col_heading level0 col5\" >RICE</th>    </tr>    <tr>        <th class=\"index_name level0\" >Hypothesis</th>        <th class=\"blank\" ></th>        <th class=\"blank\" ></th>        <th class=\"blank\" ></th>        <th class=\"blank\" ></th>        <th class=\"blank\" ></th>        <th class=\"blank\" ></th>    </tr></thead><tbody>\n",
       "                <tr>\n",
       "                        <th id=\"T_08c0d298_087c_11eb_a29d_02420a394982level0_row0\" class=\"row_heading level0 row0\" >Launch a promotion that gives users discounts on their birthdays</th>\n",
       "                        <td id=\"T_08c0d298_087c_11eb_a29d_02420a394982row0_col0\" class=\"data row0 col0\" >1</td>\n",
       "                        <td id=\"T_08c0d298_087c_11eb_a29d_02420a394982row0_col1\" class=\"data row0 col1\" >9</td>\n",
       "                        <td id=\"T_08c0d298_087c_11eb_a29d_02420a394982row0_col2\" class=\"data row0 col2\" >9</td>\n",
       "                        <td id=\"T_08c0d298_087c_11eb_a29d_02420a394982row0_col3\" class=\"data row0 col3\" >5</td>\n",
       "                        <td id=\"T_08c0d298_087c_11eb_a29d_02420a394982row0_col4\" class=\"data row0 col4\" >16.2</td>\n",
       "                        <td id=\"T_08c0d298_087c_11eb_a29d_02420a394982row0_col5\" class=\"data row0 col5\" >16.2</td>\n",
       "            </tr>\n",
       "            <tr>\n",
       "                        <th id=\"T_08c0d298_087c_11eb_a29d_02420a394982level0_row1\" class=\"row_heading level0 row1\" >Add two new channels for attracting traffic. This will bring 30% more users</th>\n",
       "                        <td id=\"T_08c0d298_087c_11eb_a29d_02420a394982row1_col0\" class=\"data row1 col0\" >3</td>\n",
       "                        <td id=\"T_08c0d298_087c_11eb_a29d_02420a394982row1_col1\" class=\"data row1 col1\" >10</td>\n",
       "                        <td id=\"T_08c0d298_087c_11eb_a29d_02420a394982row1_col2\" class=\"data row1 col2\" >8</td>\n",
       "                        <td id=\"T_08c0d298_087c_11eb_a29d_02420a394982row1_col3\" class=\"data row1 col3\" >6</td>\n",
       "                        <td id=\"T_08c0d298_087c_11eb_a29d_02420a394982row1_col4\" class=\"data row1 col4\" >13.3</td>\n",
       "                        <td id=\"T_08c0d298_087c_11eb_a29d_02420a394982row1_col5\" class=\"data row1 col5\" >40</td>\n",
       "            </tr>\n",
       "            <tr>\n",
       "                        <th id=\"T_08c0d298_087c_11eb_a29d_02420a394982level0_row2\" class=\"row_heading level0 row2\" >Add a subscription form to all the main pages. This will help you compile a mailing list</th>\n",
       "                        <td id=\"T_08c0d298_087c_11eb_a29d_02420a394982row2_col0\" class=\"data row2 col0\" >10</td>\n",
       "                        <td id=\"T_08c0d298_087c_11eb_a29d_02420a394982row2_col1\" class=\"data row2 col1\" >7</td>\n",
       "                        <td id=\"T_08c0d298_087c_11eb_a29d_02420a394982row2_col2\" class=\"data row2 col2\" >8</td>\n",
       "                        <td id=\"T_08c0d298_087c_11eb_a29d_02420a394982row2_col3\" class=\"data row2 col3\" >5</td>\n",
       "                        <td id=\"T_08c0d298_087c_11eb_a29d_02420a394982row2_col4\" class=\"data row2 col4\" >11.2</td>\n",
       "                        <td id=\"T_08c0d298_087c_11eb_a29d_02420a394982row2_col5\" class=\"data row2 col5\" >112</td>\n",
       "            </tr>\n",
       "            <tr>\n",
       "                        <th id=\"T_08c0d298_087c_11eb_a29d_02420a394982level0_row3\" class=\"row_heading level0 row3\" >Show banners with current offers and sales on the main page. This will boost conversion</th>\n",
       "                        <td id=\"T_08c0d298_087c_11eb_a29d_02420a394982row3_col0\" class=\"data row3 col0\" >5</td>\n",
       "                        <td id=\"T_08c0d298_087c_11eb_a29d_02420a394982row3_col1\" class=\"data row3 col1\" >3</td>\n",
       "                        <td id=\"T_08c0d298_087c_11eb_a29d_02420a394982row3_col2\" class=\"data row3 col2\" >8</td>\n",
       "                        <td id=\"T_08c0d298_087c_11eb_a29d_02420a394982row3_col3\" class=\"data row3 col3\" >3</td>\n",
       "                        <td id=\"T_08c0d298_087c_11eb_a29d_02420a394982row3_col4\" class=\"data row3 col4\" >8</td>\n",
       "                        <td id=\"T_08c0d298_087c_11eb_a29d_02420a394982row3_col5\" class=\"data row3 col5\" >40</td>\n",
       "            </tr>\n",
       "            <tr>\n",
       "                        <th id=\"T_08c0d298_087c_11eb_a29d_02420a394982level0_row4\" class=\"row_heading level0 row4\" >Add product recommendation blocks to the store's site. This will increase conversion and average purchase size</th>\n",
       "                        <td id=\"T_08c0d298_087c_11eb_a29d_02420a394982row4_col0\" class=\"data row4 col0\" >8</td>\n",
       "                        <td id=\"T_08c0d298_087c_11eb_a29d_02420a394982row4_col1\" class=\"data row4 col1\" >3</td>\n",
       "                        <td id=\"T_08c0d298_087c_11eb_a29d_02420a394982row4_col2\" class=\"data row4 col2\" >7</td>\n",
       "                        <td id=\"T_08c0d298_087c_11eb_a29d_02420a394982row4_col3\" class=\"data row4 col3\" >3</td>\n",
       "                        <td id=\"T_08c0d298_087c_11eb_a29d_02420a394982row4_col4\" class=\"data row4 col4\" >7</td>\n",
       "                        <td id=\"T_08c0d298_087c_11eb_a29d_02420a394982row4_col5\" class=\"data row4 col5\" >56</td>\n",
       "            </tr>\n",
       "            <tr>\n",
       "                        <th id=\"T_08c0d298_087c_11eb_a29d_02420a394982level0_row5\" class=\"row_heading level0 row5\" >Launch your own delivery service. This will shorten delivery time</th>\n",
       "                        <td id=\"T_08c0d298_087c_11eb_a29d_02420a394982row5_col0\" class=\"data row5 col0\" >2</td>\n",
       "                        <td id=\"T_08c0d298_087c_11eb_a29d_02420a394982row5_col1\" class=\"data row5 col1\" >5</td>\n",
       "                        <td id=\"T_08c0d298_087c_11eb_a29d_02420a394982row5_col2\" class=\"data row5 col2\" >4</td>\n",
       "                        <td id=\"T_08c0d298_087c_11eb_a29d_02420a394982row5_col3\" class=\"data row5 col3\" >10</td>\n",
       "                        <td id=\"T_08c0d298_087c_11eb_a29d_02420a394982row5_col4\" class=\"data row5 col4\" >2</td>\n",
       "                        <td id=\"T_08c0d298_087c_11eb_a29d_02420a394982row5_col5\" class=\"data row5 col5\" >4</td>\n",
       "            </tr>\n",
       "            <tr>\n",
       "                        <th id=\"T_08c0d298_087c_11eb_a29d_02420a394982level0_row6\" class=\"row_heading level0 row6\" >Add a customer review page. This will increase the number of orders</th>\n",
       "                        <td id=\"T_08c0d298_087c_11eb_a29d_02420a394982row6_col0\" class=\"data row6 col0\" >3</td>\n",
       "                        <td id=\"T_08c0d298_087c_11eb_a29d_02420a394982row6_col1\" class=\"data row6 col1\" >2</td>\n",
       "                        <td id=\"T_08c0d298_087c_11eb_a29d_02420a394982row6_col2\" class=\"data row6 col2\" >2</td>\n",
       "                        <td id=\"T_08c0d298_087c_11eb_a29d_02420a394982row6_col3\" class=\"data row6 col3\" >3</td>\n",
       "                        <td id=\"T_08c0d298_087c_11eb_a29d_02420a394982row6_col4\" class=\"data row6 col4\" >1.3</td>\n",
       "                        <td id=\"T_08c0d298_087c_11eb_a29d_02420a394982row6_col5\" class=\"data row6 col5\" >4</td>\n",
       "            </tr>\n",
       "            <tr>\n",
       "                        <th id=\"T_08c0d298_087c_11eb_a29d_02420a394982level0_row7\" class=\"row_heading level0 row7\" >Change the category structure. This will increase conversion since users will find the products they want more quickly</th>\n",
       "                        <td id=\"T_08c0d298_087c_11eb_a29d_02420a394982row7_col0\" class=\"data row7 col0\" >8</td>\n",
       "                        <td id=\"T_08c0d298_087c_11eb_a29d_02420a394982row7_col1\" class=\"data row7 col1\" >3</td>\n",
       "                        <td id=\"T_08c0d298_087c_11eb_a29d_02420a394982row7_col2\" class=\"data row7 col2\" >3</td>\n",
       "                        <td id=\"T_08c0d298_087c_11eb_a29d_02420a394982row7_col3\" class=\"data row7 col3\" >8</td>\n",
       "                        <td id=\"T_08c0d298_087c_11eb_a29d_02420a394982row7_col4\" class=\"data row7 col4\" >1.1</td>\n",
       "                        <td id=\"T_08c0d298_087c_11eb_a29d_02420a394982row7_col5\" class=\"data row7 col5\" >9</td>\n",
       "            </tr>\n",
       "            <tr>\n",
       "                        <th id=\"T_08c0d298_087c_11eb_a29d_02420a394982level0_row8\" class=\"row_heading level0 row8\" >Change the background color on the main page. This will increase user engagement</th>\n",
       "                        <td id=\"T_08c0d298_087c_11eb_a29d_02420a394982row8_col0\" class=\"data row8 col0\" >3</td>\n",
       "                        <td id=\"T_08c0d298_087c_11eb_a29d_02420a394982row8_col1\" class=\"data row8 col1\" >1</td>\n",
       "                        <td id=\"T_08c0d298_087c_11eb_a29d_02420a394982row8_col2\" class=\"data row8 col2\" >1</td>\n",
       "                        <td id=\"T_08c0d298_087c_11eb_a29d_02420a394982row8_col3\" class=\"data row8 col3\" >1</td>\n",
       "                        <td id=\"T_08c0d298_087c_11eb_a29d_02420a394982row8_col4\" class=\"data row8 col4\" >1</td>\n",
       "                        <td id=\"T_08c0d298_087c_11eb_a29d_02420a394982row8_col5\" class=\"data row8 col5\" >3</td>\n",
       "            </tr>\n",
       "    </tbody></table>"
      ],
      "text/plain": [
       "<pandas.io.formats.style.Styler at 0x7f1adb980d10>"
      ]
     },
     "execution_count": 7,
     "metadata": {},
     "output_type": "execute_result"
    }
   ],
   "source": [
    "# function to highlight max values in each column:\n",
    "\n",
    "def highlight_max(s):    \n",
    "    is_max = s == s.max()\n",
    "    return ['background-color: lightblue' if i else '' for i in is_max]\n",
    "\n",
    "df_hypotheses.set_index('Hypothesis').sort_values('ICE', ascending=False).style.apply(highlight_max)"
   ]
  },
  {
   "cell_type": "markdown",
   "metadata": {},
   "source": [
    "#### We can see that the prioritization of hypotheses changes when we use `RICE` instead of `ICE`. \n",
    "\n",
    "The `'Reach'` parameter has significant impact on results.\n",
    "\n",
    "Let's add ranks to the table:"
   ]
  },
  {
   "cell_type": "code",
   "execution_count": 8,
   "metadata": {},
   "outputs": [],
   "source": [
    "df_hypotheses['rank_ICE'] = df_hypotheses['ICE'].rank(method='min', ascending=False).astype(int)\n",
    "df_hypotheses['rank_RICE'] = df_hypotheses['RICE'].rank(method='min', ascending=False).astype(int)"
   ]
  },
  {
   "cell_type": "code",
   "execution_count": 9,
   "metadata": {},
   "outputs": [
    {
     "data": {
      "text/html": [
       "<div>\n",
       "<style scoped>\n",
       "    .dataframe tbody tr th:only-of-type {\n",
       "        vertical-align: middle;\n",
       "    }\n",
       "\n",
       "    .dataframe tbody tr th {\n",
       "        vertical-align: top;\n",
       "    }\n",
       "\n",
       "    .dataframe thead th {\n",
       "        text-align: right;\n",
       "    }\n",
       "</style>\n",
       "<table border=\"1\" class=\"dataframe\">\n",
       "  <thead>\n",
       "    <tr style=\"text-align: right;\">\n",
       "      <th></th>\n",
       "      <th>Hypothesis</th>\n",
       "      <th>Reach</th>\n",
       "      <th>Impact</th>\n",
       "      <th>Confidence</th>\n",
       "      <th>Effort</th>\n",
       "      <th>ICE</th>\n",
       "      <th>RICE</th>\n",
       "      <th>rank_ICE</th>\n",
       "      <th>rank_RICE</th>\n",
       "    </tr>\n",
       "  </thead>\n",
       "  <tbody>\n",
       "    <tr>\n",
       "      <td>7</td>\n",
       "      <td>Add a subscription form to all the main pages....</td>\n",
       "      <td>10</td>\n",
       "      <td>7</td>\n",
       "      <td>8</td>\n",
       "      <td>5</td>\n",
       "      <td>11.2</td>\n",
       "      <td>112.0</td>\n",
       "      <td>3</td>\n",
       "      <td>1</td>\n",
       "    </tr>\n",
       "    <tr>\n",
       "      <td>2</td>\n",
       "      <td>Add product recommendation blocks to the store...</td>\n",
       "      <td>8</td>\n",
       "      <td>3</td>\n",
       "      <td>7</td>\n",
       "      <td>3</td>\n",
       "      <td>7.0</td>\n",
       "      <td>56.0</td>\n",
       "      <td>5</td>\n",
       "      <td>2</td>\n",
       "    </tr>\n",
       "    <tr>\n",
       "      <td>0</td>\n",
       "      <td>Add two new channels for attracting traffic. T...</td>\n",
       "      <td>3</td>\n",
       "      <td>10</td>\n",
       "      <td>8</td>\n",
       "      <td>6</td>\n",
       "      <td>13.3</td>\n",
       "      <td>40.0</td>\n",
       "      <td>2</td>\n",
       "      <td>3</td>\n",
       "    </tr>\n",
       "    <tr>\n",
       "      <td>6</td>\n",
       "      <td>Show banners with current offers and sales on ...</td>\n",
       "      <td>5</td>\n",
       "      <td>3</td>\n",
       "      <td>8</td>\n",
       "      <td>3</td>\n",
       "      <td>8.0</td>\n",
       "      <td>40.0</td>\n",
       "      <td>4</td>\n",
       "      <td>3</td>\n",
       "    </tr>\n",
       "    <tr>\n",
       "      <td>8</td>\n",
       "      <td>Launch a promotion that gives users discounts ...</td>\n",
       "      <td>1</td>\n",
       "      <td>9</td>\n",
       "      <td>9</td>\n",
       "      <td>5</td>\n",
       "      <td>16.2</td>\n",
       "      <td>16.2</td>\n",
       "      <td>1</td>\n",
       "      <td>5</td>\n",
       "    </tr>\n",
       "    <tr>\n",
       "      <td>3</td>\n",
       "      <td>Change the category structure. This will incre...</td>\n",
       "      <td>8</td>\n",
       "      <td>3</td>\n",
       "      <td>3</td>\n",
       "      <td>8</td>\n",
       "      <td>1.1</td>\n",
       "      <td>9.0</td>\n",
       "      <td>8</td>\n",
       "      <td>6</td>\n",
       "    </tr>\n",
       "    <tr>\n",
       "      <td>1</td>\n",
       "      <td>Launch your own delivery service. This will sh...</td>\n",
       "      <td>2</td>\n",
       "      <td>5</td>\n",
       "      <td>4</td>\n",
       "      <td>10</td>\n",
       "      <td>2.0</td>\n",
       "      <td>4.0</td>\n",
       "      <td>6</td>\n",
       "      <td>7</td>\n",
       "    </tr>\n",
       "    <tr>\n",
       "      <td>5</td>\n",
       "      <td>Add a customer review page. This will increase...</td>\n",
       "      <td>3</td>\n",
       "      <td>2</td>\n",
       "      <td>2</td>\n",
       "      <td>3</td>\n",
       "      <td>1.3</td>\n",
       "      <td>4.0</td>\n",
       "      <td>7</td>\n",
       "      <td>7</td>\n",
       "    </tr>\n",
       "    <tr>\n",
       "      <td>4</td>\n",
       "      <td>Change the background color on the main page. ...</td>\n",
       "      <td>3</td>\n",
       "      <td>1</td>\n",
       "      <td>1</td>\n",
       "      <td>1</td>\n",
       "      <td>1.0</td>\n",
       "      <td>3.0</td>\n",
       "      <td>9</td>\n",
       "      <td>9</td>\n",
       "    </tr>\n",
       "  </tbody>\n",
       "</table>\n",
       "</div>"
      ],
      "text/plain": [
       "                                          Hypothesis  Reach  Impact  \\\n",
       "7  Add a subscription form to all the main pages....     10       7   \n",
       "2  Add product recommendation blocks to the store...      8       3   \n",
       "0  Add two new channels for attracting traffic. T...      3      10   \n",
       "6  Show banners with current offers and sales on ...      5       3   \n",
       "8  Launch a promotion that gives users discounts ...      1       9   \n",
       "3  Change the category structure. This will incre...      8       3   \n",
       "1  Launch your own delivery service. This will sh...      2       5   \n",
       "5  Add a customer review page. This will increase...      3       2   \n",
       "4  Change the background color on the main page. ...      3       1   \n",
       "\n",
       "   Confidence  Effort   ICE   RICE  rank_ICE  rank_RICE  \n",
       "7           8       5  11.2  112.0         3          1  \n",
       "2           7       3   7.0   56.0         5          2  \n",
       "0           8       6  13.3   40.0         2          3  \n",
       "6           8       3   8.0   40.0         4          3  \n",
       "8           9       5  16.2   16.2         1          5  \n",
       "3           3       8   1.1    9.0         8          6  \n",
       "1           4      10   2.0    4.0         6          7  \n",
       "5           2       3   1.3    4.0         7          7  \n",
       "4           1       1   1.0    3.0         9          9  "
      ]
     },
     "execution_count": 9,
     "metadata": {},
     "output_type": "execute_result"
    }
   ],
   "source": [
    "df_hypotheses.sort_values('RICE', ascending=False)"
   ]
  },
  {
   "cell_type": "markdown",
   "metadata": {},
   "source": [
    "#### The difference between `ICE` and `RICE` ranks shows us how strongly the `'Reach'` parameter can influence hypothesis prioritization:\n",
    "\n",
    "    rank_ICE  rank_RICE\n",
    "         3          1\n",
    "         5          2\n",
    "         2          3\n",
    "         4          3\n",
    "         1          5"
   ]
  },
  {
   "cell_type": "markdown",
   "metadata": {},
   "source": [
    "#### xxxxxxxxxxxxxxxxxxxxxxxxxxxxxxxxxxxxxxxxxxxxxxxxxxxxxxxxxxxxxxxxxxxxxxxxxxxxxxxxxxxxxxxxxxxxxxxxxxxxxxxxxxxxxxxxxxxxxxxxxxxxxxxx"
   ]
  },
  {
   "cell_type": "markdown",
   "metadata": {},
   "source": [
    "## Part 2. A/B Test Analysis"
   ]
  },
  {
   "cell_type": "markdown",
   "metadata": {},
   "source": [
    "### Preparing tables for calculation"
   ]
  },
  {
   "cell_type": "code",
   "execution_count": 10,
   "metadata": {},
   "outputs": [
    {
     "data": {
      "text/html": [
       "<div>\n",
       "<style scoped>\n",
       "    .dataframe tbody tr th:only-of-type {\n",
       "        vertical-align: middle;\n",
       "    }\n",
       "\n",
       "    .dataframe tbody tr th {\n",
       "        vertical-align: top;\n",
       "    }\n",
       "\n",
       "    .dataframe thead th {\n",
       "        text-align: right;\n",
       "    }\n",
       "</style>\n",
       "<table border=\"1\" class=\"dataframe\">\n",
       "  <thead>\n",
       "    <tr style=\"text-align: right;\">\n",
       "      <th></th>\n",
       "      <th>date</th>\n",
       "      <th>group</th>\n",
       "      <th>visits</th>\n",
       "    </tr>\n",
       "  </thead>\n",
       "  <tbody>\n",
       "    <tr>\n",
       "      <td>0</td>\n",
       "      <td>2019-08-01</td>\n",
       "      <td>A</td>\n",
       "      <td>719</td>\n",
       "    </tr>\n",
       "    <tr>\n",
       "      <td>1</td>\n",
       "      <td>2019-08-02</td>\n",
       "      <td>A</td>\n",
       "      <td>619</td>\n",
       "    </tr>\n",
       "    <tr>\n",
       "      <td>2</td>\n",
       "      <td>2019-08-03</td>\n",
       "      <td>A</td>\n",
       "      <td>507</td>\n",
       "    </tr>\n",
       "    <tr>\n",
       "      <td>3</td>\n",
       "      <td>2019-08-04</td>\n",
       "      <td>A</td>\n",
       "      <td>717</td>\n",
       "    </tr>\n",
       "    <tr>\n",
       "      <td>4</td>\n",
       "      <td>2019-08-05</td>\n",
       "      <td>A</td>\n",
       "      <td>756</td>\n",
       "    </tr>\n",
       "  </tbody>\n",
       "</table>\n",
       "</div>"
      ],
      "text/plain": [
       "        date group  visits\n",
       "0 2019-08-01     A     719\n",
       "1 2019-08-02     A     619\n",
       "2 2019-08-03     A     507\n",
       "3 2019-08-04     A     717\n",
       "4 2019-08-05     A     756"
      ]
     },
     "execution_count": 10,
     "metadata": {},
     "output_type": "execute_result"
    }
   ],
   "source": [
    "df_visits.head()"
   ]
  },
  {
   "cell_type": "code",
   "execution_count": 11,
   "metadata": {},
   "outputs": [
    {
     "data": {
      "text/html": [
       "<div>\n",
       "<style scoped>\n",
       "    .dataframe tbody tr th:only-of-type {\n",
       "        vertical-align: middle;\n",
       "    }\n",
       "\n",
       "    .dataframe tbody tr th {\n",
       "        vertical-align: top;\n",
       "    }\n",
       "\n",
       "    .dataframe thead th {\n",
       "        text-align: right;\n",
       "    }\n",
       "</style>\n",
       "<table border=\"1\" class=\"dataframe\">\n",
       "  <thead>\n",
       "    <tr style=\"text-align: right;\">\n",
       "      <th></th>\n",
       "      <th>transactionId</th>\n",
       "      <th>visitorId</th>\n",
       "      <th>date</th>\n",
       "      <th>revenue</th>\n",
       "      <th>group</th>\n",
       "    </tr>\n",
       "  </thead>\n",
       "  <tbody>\n",
       "    <tr>\n",
       "      <td>0</td>\n",
       "      <td>3667963787</td>\n",
       "      <td>3312258926</td>\n",
       "      <td>2019-08-15</td>\n",
       "      <td>30.4</td>\n",
       "      <td>B</td>\n",
       "    </tr>\n",
       "    <tr>\n",
       "      <td>1</td>\n",
       "      <td>2804400009</td>\n",
       "      <td>3642806036</td>\n",
       "      <td>2019-08-15</td>\n",
       "      <td>15.2</td>\n",
       "      <td>B</td>\n",
       "    </tr>\n",
       "    <tr>\n",
       "      <td>2</td>\n",
       "      <td>2961555356</td>\n",
       "      <td>4069496402</td>\n",
       "      <td>2019-08-15</td>\n",
       "      <td>10.2</td>\n",
       "      <td>A</td>\n",
       "    </tr>\n",
       "    <tr>\n",
       "      <td>3</td>\n",
       "      <td>3797467345</td>\n",
       "      <td>1196621759</td>\n",
       "      <td>2019-08-15</td>\n",
       "      <td>155.1</td>\n",
       "      <td>B</td>\n",
       "    </tr>\n",
       "    <tr>\n",
       "      <td>4</td>\n",
       "      <td>2282983706</td>\n",
       "      <td>2322279887</td>\n",
       "      <td>2019-08-15</td>\n",
       "      <td>40.5</td>\n",
       "      <td>B</td>\n",
       "    </tr>\n",
       "  </tbody>\n",
       "</table>\n",
       "</div>"
      ],
      "text/plain": [
       "   transactionId   visitorId       date  revenue group\n",
       "0     3667963787  3312258926 2019-08-15     30.4     B\n",
       "1     2804400009  3642806036 2019-08-15     15.2     B\n",
       "2     2961555356  4069496402 2019-08-15     10.2     A\n",
       "3     3797467345  1196621759 2019-08-15    155.1     B\n",
       "4     2282983706  2322279887 2019-08-15     40.5     B"
      ]
     },
     "execution_count": 11,
     "metadata": {},
     "output_type": "execute_result"
    }
   ],
   "source": [
    "df_orders.head()"
   ]
  },
  {
   "cell_type": "markdown",
   "metadata": {},
   "source": [
    "#### Cumulative Data:"
   ]
  },
  {
   "cell_type": "code",
   "execution_count": 12,
   "metadata": {},
   "outputs": [
    {
     "data": {
      "text/html": [
       "<div>\n",
       "<style scoped>\n",
       "    .dataframe tbody tr th:only-of-type {\n",
       "        vertical-align: middle;\n",
       "    }\n",
       "\n",
       "    .dataframe tbody tr th {\n",
       "        vertical-align: top;\n",
       "    }\n",
       "\n",
       "    .dataframe thead th {\n",
       "        text-align: right;\n",
       "    }\n",
       "</style>\n",
       "<table border=\"1\" class=\"dataframe\">\n",
       "  <thead>\n",
       "    <tr style=\"text-align: right;\">\n",
       "      <th></th>\n",
       "      <th>date</th>\n",
       "      <th>group</th>\n",
       "      <th>orders</th>\n",
       "      <th>buyers</th>\n",
       "      <th>revenue</th>\n",
       "      <th>visitors</th>\n",
       "      <th>avg_purchase_size</th>\n",
       "      <th>buyer_conversion</th>\n",
       "      <th>order_conversion</th>\n",
       "    </tr>\n",
       "  </thead>\n",
       "  <tbody>\n",
       "    <tr>\n",
       "      <td>0</td>\n",
       "      <td>2019-08-01</td>\n",
       "      <td>A</td>\n",
       "      <td>24</td>\n",
       "      <td>20</td>\n",
       "      <td>2356.8</td>\n",
       "      <td>719</td>\n",
       "      <td>98.20</td>\n",
       "      <td>0.027816</td>\n",
       "      <td>0.033380</td>\n",
       "    </tr>\n",
       "    <tr>\n",
       "      <td>1</td>\n",
       "      <td>2019-08-01</td>\n",
       "      <td>B</td>\n",
       "      <td>21</td>\n",
       "      <td>20</td>\n",
       "      <td>1620.0</td>\n",
       "      <td>713</td>\n",
       "      <td>77.14</td>\n",
       "      <td>0.028050</td>\n",
       "      <td>0.029453</td>\n",
       "    </tr>\n",
       "    <tr>\n",
       "      <td>2</td>\n",
       "      <td>2019-08-02</td>\n",
       "      <td>A</td>\n",
       "      <td>44</td>\n",
       "      <td>39</td>\n",
       "      <td>3860.3</td>\n",
       "      <td>1338</td>\n",
       "      <td>87.73</td>\n",
       "      <td>0.029148</td>\n",
       "      <td>0.032885</td>\n",
       "    </tr>\n",
       "  </tbody>\n",
       "</table>\n",
       "</div>"
      ],
      "text/plain": [
       "        date group  orders  buyers  revenue  visitors  avg_purchase_size  \\\n",
       "0 2019-08-01     A      24      20   2356.8       719              98.20   \n",
       "1 2019-08-01     B      21      20   1620.0       713              77.14   \n",
       "2 2019-08-02     A      44      39   3860.3      1338              87.73   \n",
       "\n",
       "   buyer_conversion  order_conversion  \n",
       "0          0.027816          0.033380  \n",
       "1          0.028050          0.029453  \n",
       "2          0.029148          0.032885  "
      ]
     },
     "execution_count": 12,
     "metadata": {},
     "output_type": "execute_result"
    }
   ],
   "source": [
    "# new df\n",
    "cum_orders = df_orders.groupby(['group','date']).agg({'visitorId':'nunique',\n",
    "                                                      'transactionId':'nunique',\n",
    "                                                      'revenue':'sum'}).groupby(level=0).cumsum().reset_index()\n",
    "\n",
    "\n",
    "cum_orders = cum_orders.sort_values(by=['date', 'group']).reset_index()\n",
    "\n",
    "# reorder columns\n",
    "cum_orders = cum_orders[['date', 'group', 'transactionId', 'visitorId', 'revenue']]\n",
    "\n",
    "\n",
    "cum_visits = df_visits.groupby(['group','date']).agg({'visits':'sum'}).groupby(level=0).cumsum().reset_index()\n",
    "\n",
    "# new df\n",
    "cum_data = cum_orders.merge(cum_visits, on=['date','group'])\n",
    "\n",
    "# rename columns\n",
    "cum_data.columns = ['date', 'group', 'orders', 'buyers', 'revenue', 'visitors']\n",
    "\n",
    "# new column 'avgerage purchase size'\n",
    "cum_data['avg_purchase_size'] = round(cum_data.revenue / cum_data.orders, 2)\n",
    "\n",
    "# calculating conversion\n",
    "# Buyer Conversion Rate:\n",
    "cum_data['buyer_conversion'] = cum_data['buyers']/cum_data['visitors']\n",
    "\n",
    "# Order Conversion Rate:\n",
    "cum_data['order_conversion'] = cum_data['orders']/cum_data['visitors']\n",
    "\n",
    "\n",
    "cum_data.head(3)"
   ]
  },
  {
   "cell_type": "markdown",
   "metadata": {},
   "source": [
    "#### Cumulative Data pivoted:"
   ]
  },
  {
   "cell_type": "code",
   "execution_count": 13,
   "metadata": {},
   "outputs": [
    {
     "data": {
      "text/html": [
       "<div>\n",
       "<style scoped>\n",
       "    .dataframe tbody tr th:only-of-type {\n",
       "        vertical-align: middle;\n",
       "    }\n",
       "\n",
       "    .dataframe tbody tr th {\n",
       "        vertical-align: top;\n",
       "    }\n",
       "\n",
       "    .dataframe thead th {\n",
       "        text-align: right;\n",
       "    }\n",
       "</style>\n",
       "<table border=\"1\" class=\"dataframe\">\n",
       "  <thead>\n",
       "    <tr style=\"text-align: right;\">\n",
       "      <th></th>\n",
       "      <th>date</th>\n",
       "      <th>avg_purchase_sizeA</th>\n",
       "      <th>avg_purchase_sizeB</th>\n",
       "      <th>buyer_conversionA</th>\n",
       "      <th>buyer_conversionB</th>\n",
       "      <th>buyersA</th>\n",
       "      <th>buyersB</th>\n",
       "      <th>order_conversionA</th>\n",
       "      <th>order_conversionB</th>\n",
       "      <th>ordersA</th>\n",
       "      <th>ordersB</th>\n",
       "      <th>revenueA</th>\n",
       "      <th>revenueB</th>\n",
       "      <th>visitorsA</th>\n",
       "      <th>visitorsB</th>\n",
       "    </tr>\n",
       "  </thead>\n",
       "  <tbody>\n",
       "    <tr>\n",
       "      <td>0</td>\n",
       "      <td>2019-08-01</td>\n",
       "      <td>98.20</td>\n",
       "      <td>77.14</td>\n",
       "      <td>0.027816</td>\n",
       "      <td>0.028050</td>\n",
       "      <td>20</td>\n",
       "      <td>20</td>\n",
       "      <td>0.033380</td>\n",
       "      <td>0.029453</td>\n",
       "      <td>24</td>\n",
       "      <td>21</td>\n",
       "      <td>2356.8</td>\n",
       "      <td>1620.0</td>\n",
       "      <td>719</td>\n",
       "      <td>713</td>\n",
       "    </tr>\n",
       "    <tr>\n",
       "      <td>1</td>\n",
       "      <td>2019-08-02</td>\n",
       "      <td>87.73</td>\n",
       "      <td>94.31</td>\n",
       "      <td>0.029148</td>\n",
       "      <td>0.033230</td>\n",
       "      <td>39</td>\n",
       "      <td>43</td>\n",
       "      <td>0.032885</td>\n",
       "      <td>0.034776</td>\n",
       "      <td>44</td>\n",
       "      <td>45</td>\n",
       "      <td>3860.3</td>\n",
       "      <td>4243.8</td>\n",
       "      <td>1338</td>\n",
       "      <td>1294</td>\n",
       "    </tr>\n",
       "    <tr>\n",
       "      <td>2</td>\n",
       "      <td>2019-08-03</td>\n",
       "      <td>83.46</td>\n",
       "      <td>99.19</td>\n",
       "      <td>0.034146</td>\n",
       "      <td>0.032723</td>\n",
       "      <td>63</td>\n",
       "      <td>59</td>\n",
       "      <td>0.036856</td>\n",
       "      <td>0.033833</td>\n",
       "      <td>68</td>\n",
       "      <td>61</td>\n",
       "      <td>5675.5</td>\n",
       "      <td>6050.6</td>\n",
       "      <td>1845</td>\n",
       "      <td>1803</td>\n",
       "    </tr>\n",
       "  </tbody>\n",
       "</table>\n",
       "</div>"
      ],
      "text/plain": [
       "        date  avg_purchase_sizeA  avg_purchase_sizeB  buyer_conversionA  \\\n",
       "0 2019-08-01               98.20               77.14           0.027816   \n",
       "1 2019-08-02               87.73               94.31           0.029148   \n",
       "2 2019-08-03               83.46               99.19           0.034146   \n",
       "\n",
       "   buyer_conversionB  buyersA  buyersB  order_conversionA  order_conversionB  \\\n",
       "0           0.028050       20       20           0.033380           0.029453   \n",
       "1           0.033230       39       43           0.032885           0.034776   \n",
       "2           0.032723       63       59           0.036856           0.033833   \n",
       "\n",
       "   ordersA  ordersB  revenueA  revenueB  visitorsA  visitorsB  \n",
       "0       24       21    2356.8    1620.0        719        713  \n",
       "1       44       45    3860.3    4243.8       1338       1294  \n",
       "2       68       61    5675.5    6050.6       1845       1803  "
      ]
     },
     "execution_count": 13,
     "metadata": {},
     "output_type": "execute_result"
    }
   ],
   "source": [
    "cum_data_pivoted = cum_data.pivot_table(index='date', \n",
    "                                        columns='group', \n",
    "                                        values=['orders','buyers','revenue','visitors','avg_purchase_size',\n",
    "                                                'buyer_conversion','order_conversion']).reset_index()\n",
    "\n",
    "cum_data_pivoted.columns = [''.join(i) for i in cum_data_pivoted.columns]\n",
    "\n",
    "\n",
    "cum_data_pivoted.head(3)"
   ]
  },
  {
   "cell_type": "markdown",
   "metadata": {},
   "source": [
    "#### xxxxxxxxxxxxxxxxxxxxxxxxxxxxxxxxxxxxxxxxxxxxxxxxxxxxxxxxxxxxxxxxxxxxxxxxxxxxxxxxxxxxxxxxxxxxxxxxxxxxxxxxxxxxxxxxxxxxxxxxxxxxxxxx"
   ]
  },
  {
   "cell_type": "markdown",
   "metadata": {},
   "source": [
    "#### Aggregated Data:"
   ]
  },
  {
   "cell_type": "code",
   "execution_count": 14,
   "metadata": {},
   "outputs": [
    {
     "data": {
      "text/html": [
       "<div>\n",
       "<style scoped>\n",
       "    .dataframe tbody tr th:only-of-type {\n",
       "        vertical-align: middle;\n",
       "    }\n",
       "\n",
       "    .dataframe tbody tr th {\n",
       "        vertical-align: top;\n",
       "    }\n",
       "\n",
       "    .dataframe thead th {\n",
       "        text-align: right;\n",
       "    }\n",
       "</style>\n",
       "<table border=\"1\" class=\"dataframe\">\n",
       "  <thead>\n",
       "    <tr style=\"text-align: right;\">\n",
       "      <th></th>\n",
       "      <th>date</th>\n",
       "      <th>group</th>\n",
       "      <th>visitors</th>\n",
       "      <th>buyers</th>\n",
       "      <th>orders</th>\n",
       "      <th>revenue</th>\n",
       "      <th>avg_purchase_size</th>\n",
       "      <th>buyer_conversion</th>\n",
       "      <th>order_conversion</th>\n",
       "      <th>not_buyers</th>\n",
       "    </tr>\n",
       "  </thead>\n",
       "  <tbody>\n",
       "    <tr>\n",
       "      <td>0</td>\n",
       "      <td>2019-08-01</td>\n",
       "      <td>A</td>\n",
       "      <td>719</td>\n",
       "      <td>20</td>\n",
       "      <td>24</td>\n",
       "      <td>2356.8</td>\n",
       "      <td>98.20</td>\n",
       "      <td>0.027816</td>\n",
       "      <td>0.033380</td>\n",
       "      <td>699</td>\n",
       "    </tr>\n",
       "    <tr>\n",
       "      <td>1</td>\n",
       "      <td>2019-08-02</td>\n",
       "      <td>A</td>\n",
       "      <td>619</td>\n",
       "      <td>19</td>\n",
       "      <td>20</td>\n",
       "      <td>1503.5</td>\n",
       "      <td>75.18</td>\n",
       "      <td>0.030695</td>\n",
       "      <td>0.032310</td>\n",
       "      <td>600</td>\n",
       "    </tr>\n",
       "    <tr>\n",
       "      <td>2</td>\n",
       "      <td>2019-08-03</td>\n",
       "      <td>A</td>\n",
       "      <td>507</td>\n",
       "      <td>24</td>\n",
       "      <td>24</td>\n",
       "      <td>1815.2</td>\n",
       "      <td>75.63</td>\n",
       "      <td>0.047337</td>\n",
       "      <td>0.047337</td>\n",
       "      <td>483</td>\n",
       "    </tr>\n",
       "  </tbody>\n",
       "</table>\n",
       "</div>"
      ],
      "text/plain": [
       "        date group  visitors  buyers  orders  revenue  avg_purchase_size  \\\n",
       "0 2019-08-01     A       719      20      24   2356.8              98.20   \n",
       "1 2019-08-02     A       619      19      20   1503.5              75.18   \n",
       "2 2019-08-03     A       507      24      24   1815.2              75.63   \n",
       "\n",
       "   buyer_conversion  order_conversion  not_buyers  \n",
       "0          0.027816          0.033380         699  \n",
       "1          0.030695          0.032310         600  \n",
       "2          0.047337          0.047337         483  "
      ]
     },
     "execution_count": 14,
     "metadata": {},
     "output_type": "execute_result"
    }
   ],
   "source": [
    "# new df\n",
    "agg_data = df_visits.merge(df_orders.groupby(['visitorId','date','group'], as_index=False)\\\n",
    "                                    .agg({'transactionId':'nunique','revenue':'sum'})\\\n",
    "                                    .groupby(['date', 'group'], as_index=False)\\\n",
    "                                    .agg({'visitorId':'nunique','transactionId':'sum','revenue':'sum'}),\n",
    "                           on=['date', 'group'])\n",
    "\n",
    "# rename columns\n",
    "agg_data.columns = ['date','group','visitors','buyers','orders','revenue']\n",
    "\n",
    "# new column 'avgerage purchase size'\n",
    "agg_data['avg_purchase_size'] = round(agg_data['revenue'] / agg_data['orders'], 2)\n",
    "\n",
    "# calculating conversion\n",
    "# Buyer Conversion Rate:\n",
    "agg_data['buyer_conversion'] = agg_data['buyers']/agg_data['visitors']\n",
    "\n",
    "# Order Conversion Rate:\n",
    "agg_data['order_conversion'] = agg_data['orders']/agg_data['visitors']\n",
    "\n",
    "# new column 'not_buyers' - visitors without orders\n",
    "agg_data['not_buyers'] = agg_data['visitors'] - agg_data['buyers']\n",
    "\n",
    "agg_data.head(3)"
   ]
  },
  {
   "cell_type": "markdown",
   "metadata": {},
   "source": [
    "#### Aggregated Data pivoted:"
   ]
  },
  {
   "cell_type": "code",
   "execution_count": 15,
   "metadata": {},
   "outputs": [
    {
     "data": {
      "text/html": [
       "<div>\n",
       "<style scoped>\n",
       "    .dataframe tbody tr th:only-of-type {\n",
       "        vertical-align: middle;\n",
       "    }\n",
       "\n",
       "    .dataframe tbody tr th {\n",
       "        vertical-align: top;\n",
       "    }\n",
       "\n",
       "    .dataframe thead th {\n",
       "        text-align: right;\n",
       "    }\n",
       "</style>\n",
       "<table border=\"1\" class=\"dataframe\">\n",
       "  <thead>\n",
       "    <tr style=\"text-align: right;\">\n",
       "      <th></th>\n",
       "      <th>date</th>\n",
       "      <th>avg_purchase_sizeA</th>\n",
       "      <th>avg_purchase_sizeB</th>\n",
       "      <th>buyer_conversionA</th>\n",
       "      <th>buyer_conversionB</th>\n",
       "      <th>buyersA</th>\n",
       "      <th>buyersB</th>\n",
       "      <th>not_buyersA</th>\n",
       "      <th>not_buyersB</th>\n",
       "      <th>order_conversionA</th>\n",
       "      <th>order_conversionB</th>\n",
       "      <th>ordersA</th>\n",
       "      <th>ordersB</th>\n",
       "      <th>revenueA</th>\n",
       "      <th>revenueB</th>\n",
       "      <th>visitorsA</th>\n",
       "      <th>visitorsB</th>\n",
       "      <th>rel_buyer_conversion_gain_B</th>\n",
       "      <th>rel_order_conversion_gain_B</th>\n",
       "    </tr>\n",
       "  </thead>\n",
       "  <tbody>\n",
       "    <tr>\n",
       "      <td>0</td>\n",
       "      <td>2019-08-01</td>\n",
       "      <td>98.20</td>\n",
       "      <td>77.14</td>\n",
       "      <td>0.027816</td>\n",
       "      <td>0.028050</td>\n",
       "      <td>20</td>\n",
       "      <td>20</td>\n",
       "      <td>699</td>\n",
       "      <td>693</td>\n",
       "      <td>0.033380</td>\n",
       "      <td>0.029453</td>\n",
       "      <td>24</td>\n",
       "      <td>21</td>\n",
       "      <td>2356.8</td>\n",
       "      <td>1620.0</td>\n",
       "      <td>719</td>\n",
       "      <td>713</td>\n",
       "      <td>0.008</td>\n",
       "      <td>-0.118</td>\n",
       "    </tr>\n",
       "    <tr>\n",
       "      <td>1</td>\n",
       "      <td>2019-08-02</td>\n",
       "      <td>75.18</td>\n",
       "      <td>109.32</td>\n",
       "      <td>0.030695</td>\n",
       "      <td>0.039587</td>\n",
       "      <td>19</td>\n",
       "      <td>23</td>\n",
       "      <td>600</td>\n",
       "      <td>558</td>\n",
       "      <td>0.032310</td>\n",
       "      <td>0.041308</td>\n",
       "      <td>20</td>\n",
       "      <td>24</td>\n",
       "      <td>1503.5</td>\n",
       "      <td>2623.8</td>\n",
       "      <td>619</td>\n",
       "      <td>581</td>\n",
       "      <td>0.290</td>\n",
       "      <td>0.278</td>\n",
       "    </tr>\n",
       "    <tr>\n",
       "      <td>2</td>\n",
       "      <td>2019-08-03</td>\n",
       "      <td>75.63</td>\n",
       "      <td>112.92</td>\n",
       "      <td>0.047337</td>\n",
       "      <td>0.031434</td>\n",
       "      <td>24</td>\n",
       "      <td>16</td>\n",
       "      <td>483</td>\n",
       "      <td>493</td>\n",
       "      <td>0.047337</td>\n",
       "      <td>0.031434</td>\n",
       "      <td>24</td>\n",
       "      <td>16</td>\n",
       "      <td>1815.2</td>\n",
       "      <td>1806.8</td>\n",
       "      <td>507</td>\n",
       "      <td>509</td>\n",
       "      <td>-0.336</td>\n",
       "      <td>-0.336</td>\n",
       "    </tr>\n",
       "  </tbody>\n",
       "</table>\n",
       "</div>"
      ],
      "text/plain": [
       "        date  avg_purchase_sizeA  avg_purchase_sizeB  buyer_conversionA  \\\n",
       "0 2019-08-01               98.20               77.14           0.027816   \n",
       "1 2019-08-02               75.18              109.32           0.030695   \n",
       "2 2019-08-03               75.63              112.92           0.047337   \n",
       "\n",
       "   buyer_conversionB  buyersA  buyersB  not_buyersA  not_buyersB  \\\n",
       "0           0.028050       20       20          699          693   \n",
       "1           0.039587       19       23          600          558   \n",
       "2           0.031434       24       16          483          493   \n",
       "\n",
       "   order_conversionA  order_conversionB  ordersA  ordersB  revenueA  revenueB  \\\n",
       "0           0.033380           0.029453       24       21    2356.8    1620.0   \n",
       "1           0.032310           0.041308       20       24    1503.5    2623.8   \n",
       "2           0.047337           0.031434       24       16    1815.2    1806.8   \n",
       "\n",
       "   visitorsA  visitorsB  rel_buyer_conversion_gain_B  \\\n",
       "0        719        713                        0.008   \n",
       "1        619        581                        0.290   \n",
       "2        507        509                       -0.336   \n",
       "\n",
       "   rel_order_conversion_gain_B  \n",
       "0                       -0.118  \n",
       "1                        0.278  \n",
       "2                       -0.336  "
      ]
     },
     "execution_count": 15,
     "metadata": {},
     "output_type": "execute_result"
    }
   ],
   "source": [
    "agg_data_pivoted = agg_data.pivot_table(index='date', \n",
    "                                        columns='group', \n",
    "                                        values=['visitors','not_buyers','buyers','orders','revenue','avg_purchase_size',\n",
    "                                                'buyer_conversion','order_conversion']).reset_index()\n",
    "\n",
    "agg_data_pivoted.columns = [''.join(i) for i in agg_data_pivoted.columns]\n",
    "\n",
    "\n",
    "# relative Buyers conversion gain for group B\n",
    "agg_data_pivoted['rel_buyer_conversion_gain_B'] = round(agg_data_pivoted.buyer_conversionB/\\\n",
    "                                                        agg_data_pivoted.buyer_conversionA - 1, 3)\n",
    "\n",
    "# relative Order conversion gain for group B\n",
    "agg_data_pivoted['rel_order_conversion_gain_B'] = round(agg_data_pivoted.order_conversionB/\\\n",
    "                                                        agg_data_pivoted.order_conversionA - 1, 3)\n",
    "\n",
    "agg_data_pivoted.head(3)"
   ]
  },
  {
   "cell_type": "markdown",
   "metadata": {},
   "source": [
    "#### xxxxxxxxxxxxxxxxxxxxxxxxxxxxxxxxxxxxxxxxxxxxxxxxxxxxxxxxxxxxxxxxxxxxxxxxxxxxxxxxxxxxxxxxxxxxxxxxxxxxxxxxxxxxxxxxxxxxxxxxxxxxxxxx"
   ]
  },
  {
   "cell_type": "markdown",
   "metadata": {},
   "source": [
    "### 1.\tGraph `cumulative revenue` by group."
   ]
  },
  {
   "cell_type": "code",
   "execution_count": 16,
   "metadata": {},
   "outputs": [
    {
     "name": "stderr",
     "output_type": "stream",
     "text": [
      "/opt/conda/lib/python3.7/site-packages/pandas/plotting/_matplotlib/converter.py:103: FutureWarning: Using an implicitly registered datetime converter for a matplotlib plotting method. The converter was registered by pandas on import. Future versions of pandas will require you to explicitly register matplotlib converters.\n",
      "\n",
      "To register the converters:\n",
      "\t>>> from pandas.plotting import register_matplotlib_converters\n",
      "\t>>> register_matplotlib_converters()\n",
      "  warnings.warn(msg, FutureWarning)\n"
     ]
    },
    {
     "data": {
      "image/png": "[encoded data removed]",
      "text/plain": [
       "<Figure size 720x360 with 1 Axes>"
      ]
     },
     "metadata": {
      "needs_background": "light"
     },
     "output_type": "display_data"
    }
   ],
   "source": [
    "plt.figure(figsize=(10, 5))\n",
    "\n",
    "plt.title('\\nCumulative revenue by group')\n",
    "\n",
    "# Plotting the group A revenue graph \n",
    "plt.plot(cum_data_pivoted['date'], cum_data_pivoted.revenueA, label='A')\n",
    "\n",
    "# Plotting the group B revenue graph \n",
    "plt.plot(cum_data_pivoted['date'], cum_data_pivoted.revenueB, label='B')\n",
    "\n",
    "\n",
    "plt.axhline(y=cum_data_pivoted.revenueA.mean(), color='blue', linestyle=':', label='mean A')\n",
    "plt.axhline(y=cum_data_pivoted.revenueB.mean(), color='orange', linestyle=':', label='mean B')\n",
    "\n",
    "\n",
    "plt.legend()\n",
    "plt.show()"
   ]
  },
  {
   "cell_type": "markdown",
   "metadata": {},
   "source": [
    "Revenue is rising in both groups throughout the whole test. After 2019-08-18 we can see a spike in revenue in group B. This may imply either a surge in the number of orders or the presence of very expensive orders in the sample. The mean values by group show an obvious difference."
   ]
  },
  {
   "cell_type": "markdown",
   "metadata": {},
   "source": [
    "### 2.\tGraph `cumulative average order size` by group."
   ]
  },
  {
   "cell_type": "code",
   "execution_count": 17,
   "metadata": {},
   "outputs": [
    {
     "data": {
      "image/png": "[encoded data removed]",
      "text/plain": [
       "<Figure size 720x360 with 1 Axes>"
      ]
     },
     "metadata": {
      "needs_background": "light"
     },
     "output_type": "display_data"
    }
   ],
   "source": [
    "plt.figure(figsize=(10, 5))\n",
    "\n",
    "plt.title('\\nCumulative average order size by group')\n",
    "\n",
    "# Plotting the group A revenue graph \n",
    "plt.plot(cum_data_pivoted['date'], cum_data_pivoted.avg_purchase_sizeA, label='A')\n",
    "\n",
    "# Plotting the group B revenue graph \n",
    "plt.plot(cum_data_pivoted['date'], cum_data_pivoted.avg_purchase_sizeB, label='B')\n",
    "\n",
    "plt.axhline(y=cum_data_pivoted.avg_purchase_sizeA.mean(), color='blue', linestyle=':', label='mean A')\n",
    "plt.axhline(y=cum_data_pivoted.avg_purchase_sizeB.mean(), color='orange', linestyle=':', label='mean B')\n",
    "\n",
    "plt.legend()\n",
    "plt.show()"
   ]
  },
  {
   "cell_type": "markdown",
   "metadata": {},
   "source": [
    "The significant spike after 2019-08-18 in group B is probably caused by large or expensive orders, but then the average order size stabilizes for group A and it starts to decrease slightly for group B. The mean values by group still show an obvious difference."
   ]
  },
  {
   "cell_type": "markdown",
   "metadata": {},
   "source": [
    "### 3.\tGraph the `relative difference` in `cumulative average order size` for group B compared with group A."
   ]
  },
  {
   "cell_type": "code",
   "execution_count": 18,
   "metadata": {},
   "outputs": [
    {
     "data": {
      "image/png": "[encoded data removed]",
      "text/plain": [
       "<Figure size 720x360 with 1 Axes>"
      ]
     },
     "metadata": {
      "needs_background": "light"
     },
     "output_type": "display_data"
    }
   ],
   "source": [
    "\n",
    "plt.figure(figsize=(10, 5))\n",
    "\n",
    "plt.title('\\nRelative difference in cumulative average order size\\nfor group B compared with group A\\n')\n",
    "# plotting a relative difference graph for the average purchase sizes\n",
    "plt.plot(cum_data_pivoted['date'], (cum_data_pivoted['avg_purchase_sizeB']/cum_data_pivoted['avg_purchase_sizeA']-1))\n",
    "\n",
    "# adding the X axis\n",
    "plt.axhline(y=(cum_data_pivoted['avg_purchase_sizeB']/cum_data_pivoted['avg_purchase_sizeA']-1).mean(), \n",
    "            color='blue', \n",
    "            linestyle=':', \n",
    "            label='mean')\n",
    "\n",
    "plt.axhline(y=0, color='black', linestyle='--') \n",
    "\n",
    "plt.legend()\n",
    "plt.show()"
   ]
  },
  {
   "cell_type": "markdown",
   "metadata": {},
   "source": [
    "The curve follows the logic of the previous graph and shows two surges where the difference between groups  was significant. The `mean` value of the `relative difference` in cumulative average order size is about 20%."
   ]
  },
  {
   "cell_type": "markdown",
   "metadata": {},
   "source": [
    "### 4.\tCalculate each group's `conversion rate` as the ratio of orders to the number of visits for each day."
   ]
  },
  {
   "cell_type": "markdown",
   "metadata": {},
   "source": [
    "Note, we've calculated two conversion metrics:\n",
    "\n",
    "* Buyer Conversion Rate:\n",
    "\n",
    "        data['buyer_conversion'] = data['buyers']/data['visitors']\n",
    "\n",
    "\n",
    "* Order Conversion Rate:\n",
    "\n",
    "        data['order_conversion'] = data['orders']/data['visitors']\n",
    "\n",
    "They may look similar, but we should keep in mind that in extreme cases we may encounter results like this:\n",
    "\n",
    "Buyer Conversion Rate:\n",
    "\n",
    "$\\frac{1\\ visitor(with\\ 100\\ orders)}{100\\ visitors}={conversion\\ 1\\%}$\n",
    "\n",
    "\n",
    "Order Conversion Rate:\n",
    "\n",
    "$\\frac{1\\ visitor(with\\ 100\\ orders)}{100\\ visitors}={conversion\\ 100\\%}$\n",
    "\n",
    "In our case there should be no surprises:"
   ]
  },
  {
   "cell_type": "code",
   "execution_count": 19,
   "metadata": {},
   "outputs": [
    {
     "name": "stdout",
     "output_type": "stream",
     "text": [
      "Average number of orders per user: 1.023\n"
     ]
    }
   ],
   "source": [
    "print(f'Average number of orders per user: {round((agg_data.orders/agg_data.buyers).mean(), 3)}')"
   ]
  },
  {
   "cell_type": "code",
   "execution_count": 20,
   "metadata": {},
   "outputs": [
    {
     "data": {
      "image/png": "[encoded data removed]",
      "text/plain": [
       "<Figure size 720x360 with 1 Axes>"
      ]
     },
     "metadata": {
      "needs_background": "light"
     },
     "output_type": "display_data"
    },
    {
     "data": {
      "image/png": "[encoded data removed]",
      "text/plain": [
       "<Figure size 720x360 with 1 Axes>"
      ]
     },
     "metadata": {
      "needs_background": "light"
     },
     "output_type": "display_data"
    }
   ],
   "source": [
    "plt.figure(1, figsize=(10, 5))\n",
    "\n",
    "plt.title('\\nOrder conversion')\n",
    "plt.plot(agg_data_pivoted['date'], agg_data_pivoted['order_conversionA'], label='A')\n",
    "plt.plot(agg_data_pivoted['date'], agg_data_pivoted['order_conversionB'], label='B')\n",
    "\n",
    "plt.axhline(y=agg_data_pivoted['order_conversionA'].mean(), color='blue', linestyle=':', label='mean A')\n",
    "plt.axhline(y=agg_data_pivoted['order_conversionB'].mean(), color='orange', linestyle=':', label='mean B')\n",
    "\n",
    "plt.legend()\n",
    "\n",
    "plt.figure(2, figsize=(10, 5))\n",
    "\n",
    "plt.title('\\nBuyer conversion')\n",
    "\n",
    "plt.plot(agg_data_pivoted['date'], agg_data_pivoted['buyer_conversionA'], label='A')\n",
    "plt.plot(agg_data_pivoted['date'], agg_data_pivoted['buyer_conversionB'], label='B')\n",
    "\n",
    "plt.axhline(y=agg_data_pivoted['buyer_conversionA'].mean(), color='blue', linestyle=':', label='mean A')\n",
    "plt.axhline(y=agg_data_pivoted['buyer_conversionB'].mean(), color='orange', linestyle=':', label='mean B')\n",
    "\n",
    "\n",
    "plt.legend()\n",
    "plt.show()"
   ]
  },
  {
   "cell_type": "markdown",
   "metadata": {},
   "source": [
    "* as we mentioned graphs for `Order conversion` and `Buyer conversion` look similar\n",
    "\n",
    "* in both groups we can see fluctuations in range from 2% to 5%\n",
    "\n",
    "* in group B there are two peaks (5.5% and 6%) and a drop (1%)\n",
    "\n",
    "* mean value\n",
    "    * for group B: 3.5%\n",
    "    * for group A: 3%"
   ]
  },
  {
   "cell_type": "markdown",
   "metadata": {},
   "source": [
    "#### Cumulative conversion"
   ]
  },
  {
   "cell_type": "code",
   "execution_count": 21,
   "metadata": {},
   "outputs": [
    {
     "data": {
      "image/png": "[encoded data removed]",
      "text/plain": [
       "<Figure size 720x360 with 1 Axes>"
      ]
     },
     "metadata": {
      "needs_background": "light"
     },
     "output_type": "display_data"
    },
    {
     "data": {
      "image/png": "[encoded data removed]",
      "text/plain": [
       "<Figure size 720x360 with 1 Axes>"
      ]
     },
     "metadata": {
      "needs_background": "light"
     },
     "output_type": "display_data"
    }
   ],
   "source": [
    "plt.figure(1, figsize=(10, 5))\n",
    "\n",
    "\n",
    "plt.title('\\nCumulative order conversion')\n",
    "plt.plot(cum_data_pivoted['date'], cum_data_pivoted['order_conversionA'], label='A')\n",
    "plt.plot(cum_data_pivoted['date'], cum_data_pivoted['order_conversionB'], label='B')\n",
    "\n",
    "plt.axhline(y=cum_data_pivoted['order_conversionA'].mean(), color='blue', linestyle=':', label='mean A')\n",
    "# plt.axhline(y=cum_data_pivoted['order_conversionA'].median(), color='blue', linestyle='--')\n",
    "plt.axhline(y=cum_data_pivoted['order_conversionB'].mean(), color='orange', linestyle=':', label='mean B')\n",
    "# plt.axhline(y=cum_data_pivoted['order_conversionB'].median(), color='orange', linestyle='--')\n",
    "\n",
    "plt.legend()\n",
    "plt.axis([cum_data_pivoted['date'].min(), cum_data_pivoted['date'].max(), 0.027, 0.038]) \n",
    "\n",
    "\n",
    "plt.figure(2, figsize=(10, 5))\n",
    "\n",
    "\n",
    "plt.title('\\nCumulative buyer conversion')\n",
    "\n",
    "plt.plot(cum_data_pivoted['date'], cum_data_pivoted['buyer_conversionA'], label='A')\n",
    "plt.plot(cum_data_pivoted['date'], cum_data_pivoted['buyer_conversionB'], label='B')\n",
    "\n",
    "plt.axhline(y=cum_data_pivoted['buyer_conversionA'].mean(), color='blue', linestyle=':', label='mean A')\n",
    "# plt.axhline(y=cum_data_pivoted['buyer_conversionA'].median(), color='blue', linestyle='--')\n",
    "plt.axhline(y=cum_data_pivoted['buyer_conversionB'].mean(), color='orange', linestyle=':', label='mean B')\n",
    "# plt.axhline(y=cum_data_pivoted['buyer_conversionB'].median(), color='orange', linestyle='--')\n",
    "\n",
    "plt.legend()\n",
    "plt.axis([cum_data_pivoted['date'].min(), cum_data_pivoted['date'].max(), 0.027, 0.038]) \n",
    "plt.show()"
   ]
  },
  {
   "cell_type": "markdown",
   "metadata": {},
   "source": [
    "* after fluctuations in the first week both groups stabilized in last decade of the test\n",
    "* mean value of Cumulative conversion in group B looks much better"
   ]
  },
  {
   "cell_type": "markdown",
   "metadata": {},
   "source": [
    "#### `Relative gain` in `cumulative conversion` in group B as opposed to group A"
   ]
  },
  {
   "cell_type": "code",
   "execution_count": 22,
   "metadata": {},
   "outputs": [
    {
     "data": {
      "image/png": "[encoded data removed]",
      "text/plain": [
       "<Figure size 720x360 with 1 Axes>"
      ]
     },
     "metadata": {
      "needs_background": "light"
     },
     "output_type": "display_data"
    },
    {
     "data": {
      "image/png": "[encoded data removed]",
      "text/plain": [
       "<Figure size 720x360 with 1 Axes>"
      ]
     },
     "metadata": {
      "needs_background": "light"
     },
     "output_type": "display_data"
    }
   ],
   "source": [
    "plt.figure(1, figsize=(10, 5))\n",
    "\n",
    "plt.title(\"\\nRelative gain in cumulative order conversion\\nin group B as opposed to group A\")\n",
    "plt.plot(cum_data_pivoted['date'], \n",
    "         cum_data_pivoted['order_conversionB']/cum_data_pivoted['order_conversionA']-1)\n",
    "\n",
    "\n",
    "plt.axhline(y=0, color='black', linestyle='--')\n",
    "plt.axhline(y=(cum_data_pivoted['order_conversionB']/cum_data_pivoted['order_conversionA']-1).mean(), \n",
    "            color='blue', \n",
    "            linestyle=':', \n",
    "            label='mean')\n",
    "\n",
    "plt.axis([cum_data_pivoted['date'].min(), cum_data_pivoted['date'].max(), -0.15, 0.25])\n",
    "\n",
    "plt.legend()\n",
    "\n",
    "plt.figure(2, figsize=(10, 5))\n",
    "\n",
    "plt.title(\"\\nRelative gain in cumulative buyer conversion\\nin group B as opposed to group A\")\n",
    "plt.plot(cum_data_pivoted['date'], \n",
    "         cum_data_pivoted['buyer_conversionB']/cum_data_pivoted['buyer_conversionA']-1)\n",
    "\n",
    "\n",
    "\n",
    "plt.axhline(y=(cum_data_pivoted['buyer_conversionB']/cum_data_pivoted['buyer_conversionA']-1).mean(), \n",
    "            color='blue', \n",
    "            linestyle=':', \n",
    "            label='mean')\n",
    "plt.axhline(y=0, color='black', linestyle='--')\n",
    "\n",
    "\n",
    "plt.axis([cum_data_pivoted['date'].min(), cum_data_pivoted['date'].max(), -0.15, 0.25]) \n",
    "plt.legend()\n",
    "plt.show()"
   ]
  },
  {
   "cell_type": "markdown",
   "metadata": {},
   "source": [
    "After a drop in the first week of the test and subsequent surge, the `relative gain` stabilized around mean value.\n",
    "\n",
    "In the `previous` pair of graphs we saw the `difference` between the means, \n",
    "\n",
    "and `here` we can see that mean value of `relative gain` in cumulative:\n",
    "\n",
    "    order conversion: 10%\n",
    "    buyer conversion: 14%\n",
    "    \n",
    "so we assume that group B may be more active"
   ]
  },
  {
   "cell_type": "markdown",
   "metadata": {},
   "source": [
    "### 5.\tPlot a scatter chart of the `number of orders` per user."
   ]
  },
  {
   "cell_type": "code",
   "execution_count": 23,
   "metadata": {},
   "outputs": [],
   "source": [
    "orders_per_user = df_orders.groupby('visitorId').agg({'transactionId':'nunique'})"
   ]
  },
  {
   "cell_type": "code",
   "execution_count": 24,
   "metadata": {
    "scrolled": true
   },
   "outputs": [
    {
     "data": {
      "image/png": "[encoded data removed]",
      "text/plain": [
       "<Figure size 432x288 with 1 Axes>"
      ]
     },
     "metadata": {
      "needs_background": "light"
     },
     "output_type": "display_data"
    }
   ],
   "source": [
    "x_val = pd.Series(range(len(orders_per_user)))\n",
    "\n",
    "plt.title('\\nNumber of orders per user')\n",
    "plt.scatter(x_val, orders_per_user)\n",
    "\n",
    "plt.show()"
   ]
  },
  {
   "cell_type": "markdown",
   "metadata": {},
   "source": [
    "We can that the majority of visitors placed only one order, some placed two.\n",
    "Let's calculate percentiles for the number of orders per user:"
   ]
  },
  {
   "cell_type": "markdown",
   "metadata": {},
   "source": [
    "### 6.\tCalculate the `95th and 99th percentiles` for the number of orders per user."
   ]
  },
  {
   "cell_type": "code",
   "execution_count": 25,
   "metadata": {},
   "outputs": [
    {
     "data": {
      "text/html": [
       "<div>\n",
       "<style scoped>\n",
       "    .dataframe tbody tr th:only-of-type {\n",
       "        vertical-align: middle;\n",
       "    }\n",
       "\n",
       "    .dataframe tbody tr th {\n",
       "        vertical-align: top;\n",
       "    }\n",
       "\n",
       "    .dataframe thead th {\n",
       "        text-align: right;\n",
       "    }\n",
       "</style>\n",
       "<table border=\"1\" class=\"dataframe\">\n",
       "  <thead>\n",
       "    <tr style=\"text-align: right;\">\n",
       "      <th></th>\n",
       "      <th>count</th>\n",
       "      <th>mean</th>\n",
       "      <th>std</th>\n",
       "      <th>min</th>\n",
       "      <th>25%</th>\n",
       "      <th>50%</th>\n",
       "      <th>75%</th>\n",
       "      <th>95%</th>\n",
       "      <th>99%</th>\n",
       "      <th>max</th>\n",
       "    </tr>\n",
       "  </thead>\n",
       "  <tbody>\n",
       "    <tr>\n",
       "      <td>transactionId</td>\n",
       "      <td>1031.0</td>\n",
       "      <td>1.161009</td>\n",
       "      <td>0.724919</td>\n",
       "      <td>1.0</td>\n",
       "      <td>1.0</td>\n",
       "      <td>1.0</td>\n",
       "      <td>1.0</td>\n",
       "      <td>2.0</td>\n",
       "      <td>4.0</td>\n",
       "      <td>11.0</td>\n",
       "    </tr>\n",
       "  </tbody>\n",
       "</table>\n",
       "</div>"
      ],
      "text/plain": [
       "                count      mean       std  min  25%  50%  75%  95%  99%   max\n",
       "transactionId  1031.0  1.161009  0.724919  1.0  1.0  1.0  1.0  2.0  4.0  11.0"
      ]
     },
     "execution_count": 25,
     "metadata": {},
     "output_type": "execute_result"
    }
   ],
   "source": [
    "orders_per_user.describe(percentiles=[.25, .5, .75, .95, .99]).T"
   ]
  },
  {
   "cell_type": "code",
   "execution_count": 26,
   "metadata": {
    "scrolled": true
   },
   "outputs": [
    {
     "data": {
      "text/plain": [
       "{1: 90.88,\n",
       " 2: 97.09,\n",
       " 3: 98.74,\n",
       " 4: 99.03,\n",
       " 5: 99.61,\n",
       " 8: 99.71,\n",
       " 9: 99.81,\n",
       " 11: 100.0}"
      ]
     },
     "execution_count": 26,
     "metadata": {},
     "output_type": "execute_result"
    }
   ],
   "source": [
    "lst = orders_per_user.transactionId.sort_values()\n",
    "percentiles = {x: round((i+1)/len(lst)*100, 2) for i, x in enumerate(lst)}\n",
    "percentiles"
   ]
  },
  {
   "cell_type": "code",
   "execution_count": 27,
   "metadata": {},
   "outputs": [
    {
     "data": {
      "text/plain": [
       "1     0.908826\n",
       "2     0.062076\n",
       "3     0.016489\n",
       "5     0.005820\n",
       "4     0.002910\n",
       "11    0.001940\n",
       "9     0.000970\n",
       "8     0.000970\n",
       "Name: transactionId, dtype: float64"
      ]
     },
     "execution_count": 27,
     "metadata": {},
     "output_type": "execute_result"
    }
   ],
   "source": [
    "orders_per_user.transactionId.value_counts(normalize=True)"
   ]
  },
  {
   "cell_type": "markdown",
   "metadata": {},
   "source": [
    "the share of visitors with more than 3 orders seems insignificant\n",
    "\n",
    "we think that it would be reasonable to set the limit:\n",
    "#### less than 99th percentile (number of orders < 4)"
   ]
  },
  {
   "cell_type": "markdown",
   "metadata": {},
   "source": [
    "### 7.\tPlot a scatter chart of `order prices`."
   ]
  },
  {
   "cell_type": "code",
   "execution_count": 28,
   "metadata": {},
   "outputs": [
    {
     "data": {
      "image/png": "[encoded data removed]",
      "text/plain": [
       "<Figure size 432x288 with 1 Axes>"
      ]
     },
     "metadata": {
      "needs_background": "light"
     },
     "output_type": "display_data"
    }
   ],
   "source": [
    "x_val = pd.Series(range(len(df_orders.revenue)))\n",
    "\n",
    "plt.title('\\nOrder prices\\nall orders')\n",
    "plt.scatter(x_val, df_orders.revenue)\n",
    "\n",
    "plt.hlines(np.percentile(df_orders.revenue, [90, 95, 99]), 0, 1200, colors='k', linestyles=['-.','--',':'], \n",
    "           label='percentiles: [90, 95, 99]')\n",
    "\n",
    "plt.legend()\n",
    "plt.show()"
   ]
  },
  {
   "cell_type": "markdown",
   "metadata": {},
   "source": [
    "Here we can see only two outliers, but let's take a closer look"
   ]
  },
  {
   "cell_type": "markdown",
   "metadata": {},
   "source": [
    "### 8.\tCalculate the `95th and 99th percentiles` of order prices."
   ]
  },
  {
   "cell_type": "code",
   "execution_count": 29,
   "metadata": {},
   "outputs": [
    {
     "data": {
      "text/html": [
       "<div>\n",
       "<style scoped>\n",
       "    .dataframe tbody tr th:only-of-type {\n",
       "        vertical-align: middle;\n",
       "    }\n",
       "\n",
       "    .dataframe tbody tr th {\n",
       "        vertical-align: top;\n",
       "    }\n",
       "\n",
       "    .dataframe thead th {\n",
       "        text-align: right;\n",
       "    }\n",
       "</style>\n",
       "<table border=\"1\" class=\"dataframe\">\n",
       "  <thead>\n",
       "    <tr style=\"text-align: right;\">\n",
       "      <th></th>\n",
       "      <th>count</th>\n",
       "      <th>mean</th>\n",
       "      <th>std</th>\n",
       "      <th>min</th>\n",
       "      <th>25%</th>\n",
       "      <th>50%</th>\n",
       "      <th>75%</th>\n",
       "      <th>95%</th>\n",
       "      <th>99%</th>\n",
       "      <th>max</th>\n",
       "    </tr>\n",
       "  </thead>\n",
       "  <tbody>\n",
       "    <tr>\n",
       "      <td>revenue</td>\n",
       "      <td>1197.0</td>\n",
       "      <td>131.491646</td>\n",
       "      <td>603.004729</td>\n",
       "      <td>5.0</td>\n",
       "      <td>20.8</td>\n",
       "      <td>50.2</td>\n",
       "      <td>130.4</td>\n",
       "      <td>435.54</td>\n",
       "      <td>900.904</td>\n",
       "      <td>19920.4</td>\n",
       "    </tr>\n",
       "  </tbody>\n",
       "</table>\n",
       "</div>"
      ],
      "text/plain": [
       "          count        mean         std  min   25%   50%    75%     95%  \\\n",
       "revenue  1197.0  131.491646  603.004729  5.0  20.8  50.2  130.4  435.54   \n",
       "\n",
       "             99%      max  \n",
       "revenue  900.904  19920.4  "
      ]
     },
     "execution_count": 29,
     "metadata": {},
     "output_type": "execute_result"
    }
   ],
   "source": [
    "df_orders[['revenue']].describe(percentiles=[.25, .5, .75, .95, .99]).T"
   ]
  },
  {
   "cell_type": "code",
   "execution_count": 30,
   "metadata": {},
   "outputs": [
    {
     "data": {
      "text/plain": [
       "[(815.8, 98.5),\n",
       " (830.3, 98.75),\n",
       " (875.5, 98.83),\n",
       " (900.7, 99.0),\n",
       " (905.8, 99.08),\n",
       " (930.0, 99.16),\n",
       " (1015.9, 99.25),\n",
       " (1025.8, 99.33),\n",
       " (1050.0, 99.42),\n",
       " (1220.2, 99.58),\n",
       " (1335.6, 99.67),\n",
       " (1425.8, 99.75),\n",
       " (1450.2, 99.83),\n",
       " (3120.1, 99.92),\n",
       " (19920.4, 100.0)]"
      ]
     },
     "execution_count": 30,
     "metadata": {},
     "output_type": "execute_result"
    }
   ],
   "source": [
    "lst = df_orders.revenue.sort_values()\n",
    "percentiles = {x: round((i+1)/len(lst)*100, 2) for i, x in enumerate(lst)}\n",
    "\n",
    "list(percentiles.items())[-15:]"
   ]
  },
  {
   "cell_type": "code",
   "execution_count": 31,
   "metadata": {},
   "outputs": [
    {
     "data": {
      "image/png": "[encoded data removed]",
      "text/plain": [
       "<Figure size 432x288 with 1 Axes>"
      ]
     },
     "metadata": {
      "needs_background": "light"
     },
     "output_type": "display_data"
    }
   ],
   "source": [
    "x_val = pd.Series(range(len(df_orders[df_orders['revenue'] < 3000]['revenue'])))\n",
    "\n",
    "plt.title('\\nOrder prices\\norders < 3000')\n",
    "plt.scatter(x_val, df_orders[df_orders['revenue'] < 3000]['revenue'])\n",
    "\n",
    "plt.hlines(np.percentile(df_orders.revenue, [90, 95, 99]), 0, 1200, colors='k', linestyles=['-.','--',':'], \n",
    "           label='percentiles: [90, 95, 99]')\n",
    "\n",
    "\n",
    "plt.legend()\n",
    "plt.show()"
   ]
  },
  {
   "cell_type": "markdown",
   "metadata": {},
   "source": [
    "#### here we've filtered only two orders\n",
    "#### now let's try the limit on the 99th percentile:"
   ]
  },
  {
   "cell_type": "code",
   "execution_count": 32,
   "metadata": {},
   "outputs": [
    {
     "data": {
      "image/png": "[encoded data removed]",
      "text/plain": [
       "<Figure size 432x288 with 1 Axes>"
      ]
     },
     "metadata": {
      "needs_background": "light"
     },
     "output_type": "display_data"
    }
   ],
   "source": [
    "x_val = pd.Series(range(len(df_orders[df_orders['revenue'] < 900]['revenue'])))\n",
    "\n",
    "plt.title('\\nOrder prices\\norders < 900 (less than 99th percentile)')\n",
    "plt.scatter(x_val, df_orders[df_orders['revenue'] < 900]['revenue'])\n",
    "\n",
    "plt.hlines(np.percentile(df_orders.revenue, [90, 95, 99]), 0, 1200, colors='k', linestyles=['-.','--',':'], \n",
    "           label='percentiles: [90, 95, 99]')\n",
    "\n",
    "\n",
    "plt.legend()\n",
    "plt.show()"
   ]
  },
  {
   "cell_type": "markdown",
   "metadata": {},
   "source": [
    "#### it looks much better\n",
    "#### but now let's try the limit on the 95th percentile:"
   ]
  },
  {
   "cell_type": "code",
   "execution_count": 33,
   "metadata": {},
   "outputs": [
    {
     "data": {
      "image/png": "[encoded data removed]",
      "text/plain": [
       "<Figure size 432x288 with 1 Axes>"
      ]
     },
     "metadata": {
      "needs_background": "light"
     },
     "output_type": "display_data"
    }
   ],
   "source": [
    "x_val = pd.Series(range(len(df_orders[df_orders['revenue'] < 436]['revenue'])))\n",
    "\n",
    "plt.title('\\nOrder prices\\norders < 436 (less than 95th percentile)')\n",
    "plt.scatter(x_val, df_orders[df_orders['revenue'] < 436]['revenue'])\n",
    "\n",
    "plt.hlines(np.percentile(df_orders.revenue, [90, 95]), 0, 1200, colors='k', linestyles=['-.','--'], \n",
    "           label='percentiles: [90, 95]')\n",
    "\n",
    "\n",
    "plt.legend()\n",
    "plt.show()"
   ]
  },
  {
   "cell_type": "markdown",
   "metadata": {},
   "source": [
    "#### we think that it would be reasonable to stop and to set the limit:\n",
    "#### less than 99th percentile (order price < 900)"
   ]
  },
  {
   "cell_type": "markdown",
   "metadata": {},
   "source": [
    "### 9.\tFind the `statistical significance` of the difference in `conversion` between the groups using the raw data."
   ]
  },
  {
   "cell_type": "code",
   "execution_count": 34,
   "metadata": {},
   "outputs": [
    {
     "name": "stdout",
     "output_type": "stream",
     "text": [
      "\n",
      "The difference in conversion between the groups using the raw data\n",
      "\n",
      "p-value: 0.009\n",
      "\n",
      "relative order conversion gain: 0.138\n",
      "\n",
      "buyers_B_conv_rate: 0.033 \n",
      "buyers_A_conv_rate 0.029: \n",
      "relative buyers conversion gain: 0.146\n"
     ]
    }
   ],
   "source": [
    "sample_A = pd.concat([pd.Series(0, range(agg_data_pivoted.not_buyersA.sum()), name='orders'), \n",
    "                         pd.Series(1, range(agg_data_pivoted.buyersA.sum()), name='orders')]).reset_index()['orders']\n",
    "\n",
    "sample_B = pd.concat([pd.Series(0, range(agg_data_pivoted.not_buyersB.sum()), name='orders'), \n",
    "                         pd.Series(1, range(agg_data_pivoted.buyersB.sum()), name='orders')]).reset_index()['orders']\n",
    "\n",
    "p_value = stats.mannwhitneyu(sample_A, sample_B)[1]\n",
    "\n",
    "print('\\nThe difference in conversion between the groups using the raw data\\n')\n",
    "\n",
    "print(\"p-value: {0:.3f}\".format(p_value))\n",
    "\n",
    "print(\"\\nrelative order conversion gain: {0:.3f}\".format(\n",
    "            (agg_data_pivoted.ordersB.sum() / agg_data_pivoted.visitorsB.sum())/\\\n",
    "                    (agg_data_pivoted.ordersA.sum() / agg_data_pivoted.visitorsA.sum()) - 1))\n",
    "\n",
    "print('\\nbuyers_B_conv_rate: {0:.3f}'.format(\n",
    "      (agg_data_pivoted.buyersB.sum() / agg_data_pivoted.visitorsB.sum())),\n",
    "      '\\nbuyers_A_conv_rate {0:.3f}:'.format(\n",
    "      (agg_data_pivoted.buyersA.sum() / agg_data_pivoted.visitorsA.sum())),\n",
    "      \n",
    "      \"\\nrelative buyers conversion gain: {0:.3f}\".format(\n",
    "            (agg_data_pivoted.buyersB.sum() / agg_data_pivoted.visitorsB.sum())/\\\n",
    "                    (agg_data_pivoted.buyersA.sum() / agg_data_pivoted.visitorsA.sum()) - 1))"
   ]
  },
  {
   "cell_type": "markdown",
   "metadata": {},
   "source": [
    "#### Conclusion: based on the `raw` data, there is a `difference` between groups A and B.\n",
    "\n",
    "The `p-value`: 0.009, which is `less` than 0.05. \n",
    "\n",
    "#### We `reject` the null hypothesis that there's no statistically significant difference in conversion between the groups. \n",
    "\n",
    "* the relative order conversion gain: 13.8%\n",
    "\n",
    "* the relative buyers conversion gain: 14.6%"
   ]
  },
  {
   "cell_type": "markdown",
   "metadata": {},
   "source": [
    "### 10.\tFind the `statistical significance` of the difference in `average order size` between the groups using the raw data.\n",
    "Make conclusions and conjectures."
   ]
  },
  {
   "cell_type": "code",
   "execution_count": 35,
   "metadata": {
    "scrolled": true
   },
   "outputs": [
    {
     "name": "stdout",
     "output_type": "stream",
     "text": [
      "\n",
      "The difference in average order size between the groups using the raw data\n",
      "\n",
      "p-value: 0.211\n",
      "\n",
      "The relative difference in average order: 0.238\n"
     ]
    }
   ],
   "source": [
    "sample_A = agg_data_pivoted.avg_purchase_sizeA\n",
    "sample_B = agg_data_pivoted.avg_purchase_sizeB\n",
    "\n",
    "p_value = stats.mannwhitneyu(sample_A, sample_B)[1]\n",
    "\n",
    "print('\\nThe difference in average order size between the groups using the raw data\\n')\n",
    "print(\"p-value: {0:.3f}\".format(p_value))\n",
    "\n",
    "print(\"\\nThe relative difference in average order: {0:.3f}\".format(sample_B.mean()/sample_A.mean()-1)) "
   ]
  },
  {
   "cell_type": "markdown",
   "metadata": {},
   "source": [
    "#### Conclusion: based on the `raw` data, there is `no difference` in average order size between the groups.\n",
    "\n",
    "The `p-value` is considerably `higher` than 0.05 \n",
    "\n",
    "#### We `can't reject` the null hypothesis. \n",
    "\n",
    "The `average order size` for group B is much `greater` than it is for group A by 23.8%."
   ]
  },
  {
   "cell_type": "markdown",
   "metadata": {},
   "source": [
    "#### xxxxxxxxxxxxxxxxxxxxxxxxxxxxxxxxxxxxxxxxxxxxxxxxxxxxxxxxxxxxxxxxxxxxxxxxxxxxxxxxxxxxxxxxxxxxxxxxxxxxxxxxxxxxxxxxxxxxxxxxxxxxxxxx"
   ]
  },
  {
   "cell_type": "markdown",
   "metadata": {},
   "source": [
    "### Preparing filtered data:\n",
    "\n",
    "* number of orders < 4 (less than 99th percentile)\n",
    "* order price < 900 (less than 99th percentile)"
   ]
  },
  {
   "cell_type": "code",
   "execution_count": 36,
   "metadata": {},
   "outputs": [
    {
     "data": {
      "text/html": [
       "<div>\n",
       "<style scoped>\n",
       "    .dataframe tbody tr th:only-of-type {\n",
       "        vertical-align: middle;\n",
       "    }\n",
       "\n",
       "    .dataframe tbody tr th {\n",
       "        vertical-align: top;\n",
       "    }\n",
       "\n",
       "    .dataframe thead th {\n",
       "        text-align: right;\n",
       "    }\n",
       "</style>\n",
       "<table border=\"1\" class=\"dataframe\">\n",
       "  <thead>\n",
       "    <tr style=\"text-align: right;\">\n",
       "      <th></th>\n",
       "      <th>count</th>\n",
       "      <th>mean</th>\n",
       "      <th>std</th>\n",
       "      <th>min</th>\n",
       "      <th>25%</th>\n",
       "      <th>50%</th>\n",
       "      <th>75%</th>\n",
       "      <th>max</th>\n",
       "    </tr>\n",
       "  </thead>\n",
       "  <tbody>\n",
       "    <tr>\n",
       "      <td>transactionId</td>\n",
       "      <td>13.0</td>\n",
       "      <td>6.230769</td>\n",
       "      <td>2.586949</td>\n",
       "      <td>4.0</td>\n",
       "      <td>5.0</td>\n",
       "      <td>5.0</td>\n",
       "      <td>8.0</td>\n",
       "      <td>11.0</td>\n",
       "    </tr>\n",
       "  </tbody>\n",
       "</table>\n",
       "</div>"
      ],
      "text/plain": [
       "               count      mean       std  min  25%  50%  75%   max\n",
       "transactionId   13.0  6.230769  2.586949  4.0  5.0  5.0  8.0  11.0"
      ]
     },
     "execution_count": 36,
     "metadata": {},
     "output_type": "execute_result"
    }
   ],
   "source": [
    "multiple_orders = df_orders.groupby('visitorId', as_index=False).agg({'transactionId':'nunique'})\n",
    "multiple_orders = multiple_orders[multiple_orders['transactionId'] > 3] #\n",
    "multiple_orders[['transactionId']].describe().T"
   ]
  },
  {
   "cell_type": "code",
   "execution_count": 37,
   "metadata": {},
   "outputs": [
    {
     "data": {
      "text/html": [
       "<div>\n",
       "<style scoped>\n",
       "    .dataframe tbody tr th:only-of-type {\n",
       "        vertical-align: middle;\n",
       "    }\n",
       "\n",
       "    .dataframe tbody tr th {\n",
       "        vertical-align: top;\n",
       "    }\n",
       "\n",
       "    .dataframe thead th {\n",
       "        text-align: right;\n",
       "    }\n",
       "</style>\n",
       "<table border=\"1\" class=\"dataframe\">\n",
       "  <thead>\n",
       "    <tr style=\"text-align: right;\">\n",
       "      <th></th>\n",
       "      <th>count</th>\n",
       "      <th>mean</th>\n",
       "      <th>std</th>\n",
       "      <th>min</th>\n",
       "      <th>25%</th>\n",
       "      <th>50%</th>\n",
       "      <th>75%</th>\n",
       "      <th>max</th>\n",
       "    </tr>\n",
       "  </thead>\n",
       "  <tbody>\n",
       "    <tr>\n",
       "      <td>revenue</td>\n",
       "      <td>14.0</td>\n",
       "      <td>2601.528571</td>\n",
       "      <td>5016.881882</td>\n",
       "      <td>900.7</td>\n",
       "      <td>951.475</td>\n",
       "      <td>1135.1</td>\n",
       "      <td>1403.25</td>\n",
       "      <td>19920.4</td>\n",
       "    </tr>\n",
       "  </tbody>\n",
       "</table>\n",
       "</div>"
      ],
      "text/plain": [
       "         count         mean          std    min      25%     50%      75%  \\\n",
       "revenue   14.0  2601.528571  5016.881882  900.7  951.475  1135.1  1403.25   \n",
       "\n",
       "             max  \n",
       "revenue  19920.4  "
      ]
     },
     "execution_count": 37,
     "metadata": {},
     "output_type": "execute_result"
    }
   ],
   "source": [
    "expensive_orders = df_orders[df_orders['revenue'] >= 900]\n",
    "expensive_orders[['revenue']].describe().T"
   ]
  },
  {
   "cell_type": "code",
   "execution_count": 38,
   "metadata": {},
   "outputs": [
    {
     "data": {
      "text/plain": [
       "24"
      ]
     },
     "execution_count": 38,
     "metadata": {},
     "output_type": "execute_result"
    }
   ],
   "source": [
    "filtered_users = pd.concat([multiple_orders['visitorId'], expensive_orders['visitorId']]).drop_duplicates().sort_values()\n",
    "len(filtered_users)"
   ]
  },
  {
   "cell_type": "code",
   "execution_count": 39,
   "metadata": {},
   "outputs": [
    {
     "data": {
      "text/html": [
       "<div>\n",
       "<style scoped>\n",
       "    .dataframe tbody tr th:only-of-type {\n",
       "        vertical-align: middle;\n",
       "    }\n",
       "\n",
       "    .dataframe tbody tr th {\n",
       "        vertical-align: top;\n",
       "    }\n",
       "\n",
       "    .dataframe thead th {\n",
       "        text-align: right;\n",
       "    }\n",
       "</style>\n",
       "<table border=\"1\" class=\"dataframe\">\n",
       "  <thead>\n",
       "    <tr style=\"text-align: right;\">\n",
       "      <th></th>\n",
       "      <th>date</th>\n",
       "      <th>group</th>\n",
       "      <th>visitors</th>\n",
       "      <th>buyers</th>\n",
       "      <th>orders</th>\n",
       "      <th>revenue</th>\n",
       "      <th>avg_purchase_size</th>\n",
       "      <th>buyer_conversion</th>\n",
       "      <th>order_conversion</th>\n",
       "      <th>not_buyers</th>\n",
       "    </tr>\n",
       "  </thead>\n",
       "  <tbody>\n",
       "    <tr>\n",
       "      <td>0</td>\n",
       "      <td>2019-08-01</td>\n",
       "      <td>A</td>\n",
       "      <td>719</td>\n",
       "      <td>19</td>\n",
       "      <td>23</td>\n",
       "      <td>2266.6</td>\n",
       "      <td>98.55</td>\n",
       "      <td>0.026426</td>\n",
       "      <td>0.031989</td>\n",
       "      <td>700</td>\n",
       "    </tr>\n",
       "    <tr>\n",
       "      <td>1</td>\n",
       "      <td>2019-08-02</td>\n",
       "      <td>A</td>\n",
       "      <td>619</td>\n",
       "      <td>19</td>\n",
       "      <td>20</td>\n",
       "      <td>1503.5</td>\n",
       "      <td>75.18</td>\n",
       "      <td>0.030695</td>\n",
       "      <td>0.032310</td>\n",
       "      <td>600</td>\n",
       "    </tr>\n",
       "    <tr>\n",
       "      <td>2</td>\n",
       "      <td>2019-08-03</td>\n",
       "      <td>A</td>\n",
       "      <td>507</td>\n",
       "      <td>24</td>\n",
       "      <td>24</td>\n",
       "      <td>1815.2</td>\n",
       "      <td>75.63</td>\n",
       "      <td>0.047337</td>\n",
       "      <td>0.047337</td>\n",
       "      <td>483</td>\n",
       "    </tr>\n",
       "  </tbody>\n",
       "</table>\n",
       "</div>"
      ],
      "text/plain": [
       "        date group  visitors  buyers  orders  revenue  avg_purchase_size  \\\n",
       "0 2019-08-01     A       719      19      23   2266.6              98.55   \n",
       "1 2019-08-02     A       619      19      20   1503.5              75.18   \n",
       "2 2019-08-03     A       507      24      24   1815.2              75.63   \n",
       "\n",
       "   buyer_conversion  order_conversion  not_buyers  \n",
       "0          0.026426          0.031989         700  \n",
       "1          0.030695          0.032310         600  \n",
       "2          0.047337          0.047337         483  "
      ]
     },
     "execution_count": 39,
     "metadata": {},
     "output_type": "execute_result"
    }
   ],
   "source": [
    "\n",
    "filtered_data = df_visits.merge(df_orders[~df_orders['visitorId'].isin(filtered_users)]\\\n",
    "                                        .groupby(['visitorId','date','group'], as_index=False)\\\n",
    "                                        .agg({'transactionId':'nunique','revenue':'sum'})\\\n",
    "                                        .groupby(['date', 'group'], as_index=False)\\\n",
    "                                        .agg({'visitorId':'nunique','transactionId':'sum','revenue':'sum'}),\n",
    "                                   on=['date', 'group'])\n",
    "\n",
    "filtered_data.columns = ['date','group','visitors','buyers','orders','revenue']\n",
    "\n",
    "\n",
    "filtered_data['avg_purchase_size'] = round(filtered_data['revenue'] / filtered_data['orders'], 2)\n",
    "\n",
    "# calculating conversion\n",
    "# Buyer Conversion Rate:\n",
    "filtered_data['buyer_conversion'] = filtered_data['buyers']/filtered_data['visitors']\n",
    "\n",
    "# Order Conversion Rate:\n",
    "filtered_data['order_conversion'] = filtered_data['orders']/filtered_data['visitors']\n",
    "\n",
    "filtered_data['not_buyers'] = filtered_data['visitors'] - filtered_data['buyers']\n",
    "\n",
    "filtered_data.head(3)"
   ]
  },
  {
   "cell_type": "code",
   "execution_count": 40,
   "metadata": {},
   "outputs": [
    {
     "data": {
      "text/html": [
       "<div>\n",
       "<style scoped>\n",
       "    .dataframe tbody tr th:only-of-type {\n",
       "        vertical-align: middle;\n",
       "    }\n",
       "\n",
       "    .dataframe tbody tr th {\n",
       "        vertical-align: top;\n",
       "    }\n",
       "\n",
       "    .dataframe thead th {\n",
       "        text-align: right;\n",
       "    }\n",
       "</style>\n",
       "<table border=\"1\" class=\"dataframe\">\n",
       "  <thead>\n",
       "    <tr style=\"text-align: right;\">\n",
       "      <th></th>\n",
       "      <th>date</th>\n",
       "      <th>avg_purchase_sizeA</th>\n",
       "      <th>avg_purchase_sizeB</th>\n",
       "      <th>buyer_conversionA</th>\n",
       "      <th>buyer_conversionB</th>\n",
       "      <th>buyersA</th>\n",
       "      <th>buyersB</th>\n",
       "      <th>not_buyersA</th>\n",
       "      <th>not_buyersB</th>\n",
       "      <th>order_conversionA</th>\n",
       "      <th>order_conversionB</th>\n",
       "      <th>ordersA</th>\n",
       "      <th>ordersB</th>\n",
       "      <th>revenueA</th>\n",
       "      <th>revenueB</th>\n",
       "      <th>visitorsA</th>\n",
       "      <th>visitorsB</th>\n",
       "      <th>rel_buyer_conversion_gain_B</th>\n",
       "      <th>rel_order_conversion_gain_B</th>\n",
       "    </tr>\n",
       "  </thead>\n",
       "  <tbody>\n",
       "    <tr>\n",
       "      <td>0</td>\n",
       "      <td>2019-08-01</td>\n",
       "      <td>98.55</td>\n",
       "      <td>66.25</td>\n",
       "      <td>0.026426</td>\n",
       "      <td>0.026648</td>\n",
       "      <td>19</td>\n",
       "      <td>19</td>\n",
       "      <td>700</td>\n",
       "      <td>694</td>\n",
       "      <td>0.031989</td>\n",
       "      <td>0.026648</td>\n",
       "      <td>23</td>\n",
       "      <td>19</td>\n",
       "      <td>2266.6</td>\n",
       "      <td>1258.8</td>\n",
       "      <td>719</td>\n",
       "      <td>713</td>\n",
       "      <td>0.008</td>\n",
       "      <td>-0.167</td>\n",
       "    </tr>\n",
       "    <tr>\n",
       "      <td>1</td>\n",
       "      <td>2019-08-02</td>\n",
       "      <td>75.18</td>\n",
       "      <td>111.66</td>\n",
       "      <td>0.030695</td>\n",
       "      <td>0.037866</td>\n",
       "      <td>19</td>\n",
       "      <td>22</td>\n",
       "      <td>600</td>\n",
       "      <td>559</td>\n",
       "      <td>0.032310</td>\n",
       "      <td>0.039587</td>\n",
       "      <td>20</td>\n",
       "      <td>23</td>\n",
       "      <td>1503.5</td>\n",
       "      <td>2568.1</td>\n",
       "      <td>619</td>\n",
       "      <td>581</td>\n",
       "      <td>0.234</td>\n",
       "      <td>0.225</td>\n",
       "    </tr>\n",
       "    <tr>\n",
       "      <td>2</td>\n",
       "      <td>2019-08-03</td>\n",
       "      <td>75.63</td>\n",
       "      <td>112.92</td>\n",
       "      <td>0.047337</td>\n",
       "      <td>0.031434</td>\n",
       "      <td>24</td>\n",
       "      <td>16</td>\n",
       "      <td>483</td>\n",
       "      <td>493</td>\n",
       "      <td>0.047337</td>\n",
       "      <td>0.031434</td>\n",
       "      <td>24</td>\n",
       "      <td>16</td>\n",
       "      <td>1815.2</td>\n",
       "      <td>1806.8</td>\n",
       "      <td>507</td>\n",
       "      <td>509</td>\n",
       "      <td>-0.336</td>\n",
       "      <td>-0.336</td>\n",
       "    </tr>\n",
       "  </tbody>\n",
       "</table>\n",
       "</div>"
      ],
      "text/plain": [
       "        date  avg_purchase_sizeA  avg_purchase_sizeB  buyer_conversionA  \\\n",
       "0 2019-08-01               98.55               66.25           0.026426   \n",
       "1 2019-08-02               75.18              111.66           0.030695   \n",
       "2 2019-08-03               75.63              112.92           0.047337   \n",
       "\n",
       "   buyer_conversionB  buyersA  buyersB  not_buyersA  not_buyersB  \\\n",
       "0           0.026648       19       19          700          694   \n",
       "1           0.037866       19       22          600          559   \n",
       "2           0.031434       24       16          483          493   \n",
       "\n",
       "   order_conversionA  order_conversionB  ordersA  ordersB  revenueA  revenueB  \\\n",
       "0           0.031989           0.026648       23       19    2266.6    1258.8   \n",
       "1           0.032310           0.039587       20       23    1503.5    2568.1   \n",
       "2           0.047337           0.031434       24       16    1815.2    1806.8   \n",
       "\n",
       "   visitorsA  visitorsB  rel_buyer_conversion_gain_B  \\\n",
       "0        719        713                        0.008   \n",
       "1        619        581                        0.234   \n",
       "2        507        509                       -0.336   \n",
       "\n",
       "   rel_order_conversion_gain_B  \n",
       "0                       -0.167  \n",
       "1                        0.225  \n",
       "2                       -0.336  "
      ]
     },
     "execution_count": 40,
     "metadata": {},
     "output_type": "execute_result"
    }
   ],
   "source": [
    "filtered_data_pivoted = filtered_data.pivot_table(index='date', \n",
    "                                                    columns='group', \n",
    "                                                    values=['visitors','not_buyers','buyers','orders',\n",
    "                                                            'revenue','avg_purchase_size',\n",
    "                                                            'buyer_conversion','order_conversion']).reset_index()\n",
    "\n",
    "filtered_data_pivoted.columns = [''.join(i) for i in filtered_data_pivoted.columns]\n",
    "\n",
    "\n",
    "# relative buyers conversion gain for group B\n",
    "filtered_data_pivoted['rel_buyer_conversion_gain_B'] = round(filtered_data_pivoted.buyer_conversionB/\\\n",
    "                                                        filtered_data_pivoted.buyer_conversionA - 1, 3)\n",
    "\n",
    "# relative order conversion gain for group B\n",
    "filtered_data_pivoted['rel_order_conversion_gain_B'] = round(filtered_data_pivoted.order_conversionB/\\\n",
    "                                                        filtered_data_pivoted.order_conversionA - 1, 3)\n",
    "\n",
    "filtered_data_pivoted.head(3)"
   ]
  },
  {
   "cell_type": "code",
   "execution_count": 41,
   "metadata": {},
   "outputs": [
    {
     "data": {
      "text/plain": [
       "avg_purchase_sizeA            -0.086\n",
       "avg_purchase_sizeB            -0.288\n",
       "buyer_conversionA             -0.079\n",
       "buyer_conversionB             -0.061\n",
       "buyersA                       -0.081\n",
       "buyersB                       -0.064\n",
       "not_buyersA                    0.002\n",
       "not_buyersB                    0.002\n",
       "order_conversionA             -0.082\n",
       "order_conversionB             -0.070\n",
       "ordersA                       -0.084\n",
       "ordersB                       -0.073\n",
       "revenueA                      -0.181\n",
       "revenueB                      -0.350\n",
       "visitorsA                      0.000\n",
       "visitorsB                      0.000\n",
       "rel_buyer_conversion_gain_B    0.248\n",
       "rel_order_conversion_gain_B    0.231\n",
       "dtype: float64"
      ]
     },
     "execution_count": 41,
     "metadata": {},
     "output_type": "execute_result"
    }
   ],
   "source": [
    "(filtered_data_pivoted.sum()/agg_data_pivoted.sum()-1).round(3)"
   ]
  },
  {
   "cell_type": "markdown",
   "metadata": {},
   "source": [
    "#### xxxxxxxxxxxxxxxxxxxxxxxxxxxxxxxxxxxxxxxxxxxxxxxxxxxxxxxxxxxxxxxxxxxxxxxxxxxxxxxxxxxxxxxxxxxxxxxxxxxxxxxxxxxxxxxxxxxxxxxxxxxxxxxx"
   ]
  },
  {
   "cell_type": "markdown",
   "metadata": {},
   "source": [
    "### 11.\tFind the `statistical significance` of the difference in `conversion` between the groups using the `filtered` data. \n",
    "Make conclusions and conjectures."
   ]
  },
  {
   "cell_type": "code",
   "execution_count": 42,
   "metadata": {},
   "outputs": [
    {
     "name": "stdout",
     "output_type": "stream",
     "text": [
      "\n",
      "The difference in conversion between the groups using the filtered data\n",
      "\n",
      "p-value: 0.005\n",
      "\n",
      "relative order conversion gain: 0.152\n",
      "\n",
      "buyers_B_conv_rate: 0.031 \n",
      "buyers_A_conv_rate 0.027: \n",
      "relative buyers conversion gain: 0.167\n"
     ]
    }
   ],
   "source": [
    "sample_A = pd.concat([pd.Series(0, range(filtered_data_pivoted.not_buyersA.sum()), name='orders'), \n",
    "                         pd.Series(1, range(filtered_data_pivoted.buyersA.sum()), name='orders')]).reset_index()['orders']\n",
    "\n",
    "sample_B = pd.concat([pd.Series(0, range(filtered_data_pivoted.not_buyersB.sum()), name='orders'), \n",
    "                         pd.Series(1, range(filtered_data_pivoted.buyersB.sum()), name='orders')]).reset_index()['orders']\n",
    "\n",
    "p_value = stats.mannwhitneyu(sample_A, sample_B)[1]\n",
    "\n",
    "\n",
    "print('\\nThe difference in conversion between the groups using the filtered data\\n')\n",
    "print(\"p-value: {0:.3f}\".format(p_value))\n",
    "\n",
    "print(\"\\nrelative order conversion gain: {0:.3f}\".format(\n",
    "            (filtered_data_pivoted.ordersB.sum() / filtered_data_pivoted.visitorsB.sum())/\\\n",
    "                    (filtered_data_pivoted.ordersA.sum() / filtered_data_pivoted.visitorsA.sum()) - 1))\n",
    "\n",
    "print('\\nbuyers_B_conv_rate: {0:.3f}'.format(\n",
    "      (filtered_data_pivoted.buyersB.sum() / filtered_data_pivoted.visitorsB.sum())),\n",
    "      '\\nbuyers_A_conv_rate {0:.3f}:'.format(\n",
    "      (filtered_data_pivoted.buyersA.sum() / filtered_data_pivoted.visitorsA.sum())),\n",
    "      \n",
    "      \"\\nrelative buyers conversion gain: {0:.3f}\".format(\n",
    "            (filtered_data_pivoted.buyersB.sum() / filtered_data_pivoted.visitorsB.sum())/\\\n",
    "                    (filtered_data_pivoted.buyersA.sum() / filtered_data_pivoted.visitorsA.sum()) - 1))"
   ]
  },
  {
   "cell_type": "markdown",
   "metadata": {},
   "source": [
    "`For comparison`, results using the `raw` data:\n",
    "\n",
    "    p-value: 0.009\n",
    "    \n",
    "    the relative order conversion gain: 13.8%\n",
    "    the relative buyers conversion gain: 14.6%\n",
    "    \n",
    "\n",
    "    \n",
    "#### Conclusion: based on the `filtered` data, there is a `difference` between groups A and B.\n",
    "\n",
    "The `p-value`: 0.005, which is `less` than 0.05. \n",
    "\n",
    "#### So we `reject the null hypothesis` that there's no statistically significant difference in conversion between the groups. \n",
    "\n",
    "* the relative order conversion gain: 15.2%\n",
    "* the relative buyers conversion gain: 16.7%"
   ]
  },
  {
   "cell_type": "markdown",
   "metadata": {},
   "source": [
    "### 12.\tFind the `statistical significance` of the difference in `average order size` between the groups using the `filtered` data. \n",
    "Make conclusions and conjectures."
   ]
  },
  {
   "cell_type": "code",
   "execution_count": 43,
   "metadata": {},
   "outputs": [
    {
     "name": "stdout",
     "output_type": "stream",
     "text": [
      "\n",
      "The difference in average order size between the groups using the filtered data\n",
      "\n",
      "p-value: 0.400\n",
      "\n",
      "The relative difference in average order: -0.036\n"
     ]
    }
   ],
   "source": [
    "sample_A = filtered_data_pivoted.avg_purchase_sizeA\n",
    "sample_B = filtered_data_pivoted.avg_purchase_sizeB\n",
    "\n",
    "p_value = stats.mannwhitneyu(sample_A, sample_B)[1]\n",
    "# p_value2 = stats.ttest_ind(sample_A, sample_B)[1]\n",
    "# p_value3 = stats.ttest_ind(sample_A, sample_B, equal_var=False)[1]\n",
    "\n",
    "print('\\nThe difference in average order size between the groups using the filtered data\\n')\n",
    "print(\"p-value: {0:.3f}\".format(p_value))\n",
    "# print(\"p-value2: {0:.4f}\".format(p_value2))\n",
    "# print(\"p-value3: {0:.4f}\".format(p_value3))\n",
    "\n",
    "\n",
    "print(\"\\nThe relative difference in average order: {0:.3f}\".format(sample_B.mean()/sample_A.mean()-1)) "
   ]
  },
  {
   "cell_type": "markdown",
   "metadata": {},
   "source": [
    "`For comparison`, result using the `raw` data:\n",
    "\n",
    "    p-value: 0.21114\n",
    "\n",
    "#### Conclusion: based on the `filtered` data, there is `no difference` in average order size between the groups.\n",
    "\n",
    "`p-value`: 0.400\n",
    "\n",
    "The `p-value` is considerably `higher` than 0.05 \n",
    "\n",
    "#### We `can't reject` the null hypothesis. \n",
    "\n",
    "The `average order size` for group B is much `smaller` than it is for group A by 3.6%."
   ]
  },
  {
   "cell_type": "markdown",
   "metadata": {},
   "source": [
    "### 13.\tMake a decision based on the test results. "
   ]
  },
  {
   "cell_type": "markdown",
   "metadata": {},
   "source": [
    "There's a statistically significant difference in conversion between the groups, according to both the raw and the filtered data.\n",
    "\n",
    "The raw and the filtered data didn't show a statistically significant difference between the groups in terms of average purchase size.\n",
    "\n",
    "The graph of the difference in conversion between the groups shows that group B's results are better than those of group A: they have a tendency to grow or have stabilized around the mean.\n",
    "\n",
    "Our decision:\n",
    "\n",
    "* to stop the test, \n",
    "* to consider the B group the leader. "
   ]
  },
  {
   "cell_type": "markdown",
   "metadata": {},
   "source": [
    "## Part 3. Conclusion\n",
    "\n",
    "\n",
    "#### Our task was \n",
    "* to prioritize the hypotheses\n",
    "* to analyze the A/B test results.\n",
    "\n",
    "#### We prioritized hypotheses using the ICE and RICE frameworks:  \n",
    "\n",
    "rank_ICE #1 Hypothesis:\n",
    "* Launch a promotion that gives users discounts on their birthdays\n",
    "\n",
    "rank_RICE #1 Hypothesis:\n",
    "* Add a subscription form to all the main pages. This will help you compile a mailing list\n",
    "\n",
    "We discovered that the 'Reach' parameter has significant impact on results.\n",
    "\n",
    "The difference between ICE and RICE ranks:\n",
    "\n",
    "    rank_ICE  rank_RICE\n",
    "         3          1\n",
    "         5          2\n",
    "         2          3\n",
    "         4          3\n",
    "         1          5\n",
    "\n",
    "#### We analyzed the results of an A/B test\n",
    "\n",
    "    cumulative revenue\n",
    "    cumulative average order size by group\n",
    "    the relative difference in cumulative average order size\n",
    "    conversion rate\n",
    "\n",
    "#### We set the limits for the filtered data:\n",
    "less than 99th percentile:\n",
    "* number of orders < 4\n",
    "* order price < 900\n",
    "\n",
    "\n",
    "\n",
    "\n",
    "#### Based on the raw and filtered data, we defined if there is the statistical significance of the difference between the groups:  \n",
    "\n",
    "    in conversion \n",
    "    in average order size\n",
    "    \n",
    "#### We discovered:\n",
    "\n",
    "* There's a `statistically significant` difference in `conversion` between the groups (for the raw and the filtered data).    \n",
    "* There's `no statistically significant` difference in `average purchase size` between the groups (for the raw and the filtered data).\n",
    "* The graph of the difference in conversion between the groups shows that `group B`'s results are `better` than those of `group A`: they have a tendency to grow or have stabilized around the mean.\n",
    "\n",
    "#### We think that we should:\n",
    "\n",
    "* stop the test \n",
    "* consider the B group the leader. "
   ]
  },
  {
   "cell_type": "code",
   "execution_count": null,
   "metadata": {},
   "outputs": [],
   "source": []
  }
 ],
 "metadata": {
  "kernelspec": {
   "display_name": "Python 3",
   "language": "python",
   "name": "python3"
  },
  "language_info": {
   "codemirror_mode": {
    "name": "ipython",
    "version": 3
   },
   "file_extension": ".py",
   "mimetype": "text/x-python",
   "name": "python",
   "nbconvert_exporter": "python",
   "pygments_lexer": "ipython3",
   "version": "3.7.5"
  }
 },
 "nbformat": 4,
 "nbformat_minor": 4
}
